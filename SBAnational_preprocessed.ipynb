{
 "cells": [
  {
   "cell_type": "markdown",
   "id": "d0302227",
   "metadata": {},
   "source": [
    "# SBA Loan Dataset Preprocessed\n",
    "\n",
    "The following is preprocessed dataset. The dataset will be processed throughout, in which comments will highlight the purpose of the reconstruction\n"
   ]
  },
  {
   "cell_type": "markdown",
   "id": "2a686131",
   "metadata": {},
   "source": []
  },
  {
   "cell_type": "code",
   "execution_count": 63,
   "id": "d01b2e31",
   "metadata": {},
   "outputs": [
    {
     "data": {
      "text/plain": [
       "'C:\\\\Users\\\\wowan\\\\Desktop\\\\SBA Exam\\\\bigdata'"
      ]
     },
     "execution_count": 63,
     "metadata": {},
     "output_type": "execute_result"
    }
   ],
   "source": [
    "import os \n",
    "os.getcwd()\n"
   ]
  },
  {
   "cell_type": "code",
   "execution_count": 57,
   "id": "d17f0ef4",
   "metadata": {},
   "outputs": [
    {
     "name": "stdout",
     "output_type": "stream",
     "text": [
      "Requirement already satisfied: pandas in d:\\anaconda\\lib\\site-packages (1.5.3)\n",
      "Requirement already satisfied: python-dateutil>=2.8.1 in d:\\anaconda\\lib\\site-packages (from pandas) (2.8.2)\n",
      "Requirement already satisfied: pytz>=2020.1 in d:\\anaconda\\lib\\site-packages (from pandas) (2022.7)\n",
      "Requirement already satisfied: numpy>=1.21.0 in d:\\anaconda\\lib\\site-packages (from pandas) (1.24.3)\n",
      "Requirement already satisfied: six>=1.5 in d:\\anaconda\\lib\\site-packages (from python-dateutil>=2.8.1->pandas) (1.16.0)\n",
      "Requirement already satisfied: numpy in d:\\anaconda\\lib\\site-packages (1.24.3)\n"
     ]
    }
   ],
   "source": [
    "#Changed main directory for .pyt file, in order to sync with GitHub when pushing.\n",
    "# Modules will be re-installed as following, since we have changed directory for the .lib which includes the modules.\n",
    "import sys\n",
    "!{sys.executable} -m pip install pandas\n",
    "\n",
    "import sys\n",
    "!{sys.executable} -m pip install numpy"
   ]
  },
  {
   "cell_type": "code",
   "execution_count": 62,
   "id": "1769be41",
   "metadata": {},
   "outputs": [
    {
     "data": {
      "text/html": [
       "<div>\n",
       "<style scoped>\n",
       "    .dataframe tbody tr th:only-of-type {\n",
       "        vertical-align: middle;\n",
       "    }\n",
       "\n",
       "    .dataframe tbody tr th {\n",
       "        vertical-align: top;\n",
       "    }\n",
       "\n",
       "    .dataframe thead th {\n",
       "        text-align: right;\n",
       "    }\n",
       "</style>\n",
       "<table border=\"1\" class=\"dataframe\">\n",
       "  <thead>\n",
       "    <tr style=\"text-align: right;\">\n",
       "      <th></th>\n",
       "      <th>LoanNr_ChkDgt</th>\n",
       "      <th>Name</th>\n",
       "      <th>City</th>\n",
       "      <th>State</th>\n",
       "      <th>Zip</th>\n",
       "      <th>Bank</th>\n",
       "      <th>BankState</th>\n",
       "      <th>NAICS</th>\n",
       "      <th>ApprovalDate</th>\n",
       "      <th>ApprovalFY</th>\n",
       "      <th>...</th>\n",
       "      <th>RevLineCr</th>\n",
       "      <th>LowDoc</th>\n",
       "      <th>ChgOffDate</th>\n",
       "      <th>DisbursementDate</th>\n",
       "      <th>DisbursementGross</th>\n",
       "      <th>BalanceGross</th>\n",
       "      <th>MIS_Status</th>\n",
       "      <th>ChgOffPrinGr</th>\n",
       "      <th>GrAppv</th>\n",
       "      <th>SBA_Appv</th>\n",
       "    </tr>\n",
       "  </thead>\n",
       "  <tbody>\n",
       "    <tr>\n",
       "      <th>0</th>\n",
       "      <td>1000014003</td>\n",
       "      <td>ABC HOBBYCRAFT</td>\n",
       "      <td>EVANSVILLE</td>\n",
       "      <td>IN</td>\n",
       "      <td>47711</td>\n",
       "      <td>FIFTH THIRD BANK</td>\n",
       "      <td>OH</td>\n",
       "      <td>451120</td>\n",
       "      <td>28-Feb-97</td>\n",
       "      <td>1997</td>\n",
       "      <td>...</td>\n",
       "      <td>N</td>\n",
       "      <td>Y</td>\n",
       "      <td>NaN</td>\n",
       "      <td>28-Feb-99</td>\n",
       "      <td>$60,000.00</td>\n",
       "      <td>$0.00</td>\n",
       "      <td>P I F</td>\n",
       "      <td>$0.00</td>\n",
       "      <td>$60,000.00</td>\n",
       "      <td>$48,000.00</td>\n",
       "    </tr>\n",
       "    <tr>\n",
       "      <th>1</th>\n",
       "      <td>1000024006</td>\n",
       "      <td>LANDMARK BAR &amp; GRILLE (THE)</td>\n",
       "      <td>NEW PARIS</td>\n",
       "      <td>IN</td>\n",
       "      <td>46526</td>\n",
       "      <td>1ST SOURCE BANK</td>\n",
       "      <td>IN</td>\n",
       "      <td>722410</td>\n",
       "      <td>28-Feb-97</td>\n",
       "      <td>1997</td>\n",
       "      <td>...</td>\n",
       "      <td>N</td>\n",
       "      <td>Y</td>\n",
       "      <td>NaN</td>\n",
       "      <td>31-May-97</td>\n",
       "      <td>$40,000.00</td>\n",
       "      <td>$0.00</td>\n",
       "      <td>P I F</td>\n",
       "      <td>$0.00</td>\n",
       "      <td>$40,000.00</td>\n",
       "      <td>$32,000.00</td>\n",
       "    </tr>\n",
       "    <tr>\n",
       "      <th>2</th>\n",
       "      <td>1000034009</td>\n",
       "      <td>WHITLOCK DDS, TODD M.</td>\n",
       "      <td>BLOOMINGTON</td>\n",
       "      <td>IN</td>\n",
       "      <td>47401</td>\n",
       "      <td>GRANT COUNTY STATE BANK</td>\n",
       "      <td>IN</td>\n",
       "      <td>621210</td>\n",
       "      <td>28-Feb-97</td>\n",
       "      <td>1997</td>\n",
       "      <td>...</td>\n",
       "      <td>N</td>\n",
       "      <td>N</td>\n",
       "      <td>NaN</td>\n",
       "      <td>31-Dec-97</td>\n",
       "      <td>$287,000.00</td>\n",
       "      <td>$0.00</td>\n",
       "      <td>P I F</td>\n",
       "      <td>$0.00</td>\n",
       "      <td>$287,000.00</td>\n",
       "      <td>$215,250.00</td>\n",
       "    </tr>\n",
       "    <tr>\n",
       "      <th>3</th>\n",
       "      <td>1000044001</td>\n",
       "      <td>BIG BUCKS PAWN &amp; JEWELRY, LLC</td>\n",
       "      <td>BROKEN ARROW</td>\n",
       "      <td>OK</td>\n",
       "      <td>74012</td>\n",
       "      <td>1ST NATL BK &amp; TR CO OF BROKEN</td>\n",
       "      <td>OK</td>\n",
       "      <td>0</td>\n",
       "      <td>28-Feb-97</td>\n",
       "      <td>1997</td>\n",
       "      <td>...</td>\n",
       "      <td>N</td>\n",
       "      <td>Y</td>\n",
       "      <td>NaN</td>\n",
       "      <td>30-Jun-97</td>\n",
       "      <td>$35,000.00</td>\n",
       "      <td>$0.00</td>\n",
       "      <td>P I F</td>\n",
       "      <td>$0.00</td>\n",
       "      <td>$35,000.00</td>\n",
       "      <td>$28,000.00</td>\n",
       "    </tr>\n",
       "    <tr>\n",
       "      <th>4</th>\n",
       "      <td>1000054004</td>\n",
       "      <td>ANASTASIA CONFECTIONS, INC.</td>\n",
       "      <td>ORLANDO</td>\n",
       "      <td>FL</td>\n",
       "      <td>32801</td>\n",
       "      <td>FLORIDA BUS. DEVEL CORP</td>\n",
       "      <td>FL</td>\n",
       "      <td>0</td>\n",
       "      <td>28-Feb-97</td>\n",
       "      <td>1997</td>\n",
       "      <td>...</td>\n",
       "      <td>N</td>\n",
       "      <td>N</td>\n",
       "      <td>NaN</td>\n",
       "      <td>14-May-97</td>\n",
       "      <td>$229,000.00</td>\n",
       "      <td>$0.00</td>\n",
       "      <td>P I F</td>\n",
       "      <td>$0.00</td>\n",
       "      <td>$229,000.00</td>\n",
       "      <td>$229,000.00</td>\n",
       "    </tr>\n",
       "  </tbody>\n",
       "</table>\n",
       "<p>5 rows × 27 columns</p>\n",
       "</div>"
      ],
      "text/plain": [
       "  LoanNr_ChkDgt                           Name          City State    Zip  \\\n",
       "0    1000014003                 ABC HOBBYCRAFT    EVANSVILLE    IN  47711   \n",
       "1    1000024006    LANDMARK BAR & GRILLE (THE)     NEW PARIS    IN  46526   \n",
       "2    1000034009          WHITLOCK DDS, TODD M.   BLOOMINGTON    IN  47401   \n",
       "3    1000044001  BIG BUCKS PAWN & JEWELRY, LLC  BROKEN ARROW    OK  74012   \n",
       "4    1000054004    ANASTASIA CONFECTIONS, INC.       ORLANDO    FL  32801   \n",
       "\n",
       "                            Bank BankState   NAICS ApprovalDate ApprovalFY  \\\n",
       "0               FIFTH THIRD BANK        OH  451120    28-Feb-97       1997   \n",
       "1                1ST SOURCE BANK        IN  722410    28-Feb-97       1997   \n",
       "2        GRANT COUNTY STATE BANK        IN  621210    28-Feb-97       1997   \n",
       "3  1ST NATL BK & TR CO OF BROKEN        OK       0    28-Feb-97       1997   \n",
       "4        FLORIDA BUS. DEVEL CORP        FL       0    28-Feb-97       1997   \n",
       "\n",
       "   ... RevLineCr LowDoc ChgOffDate DisbursementDate DisbursementGross  \\\n",
       "0  ...         N      Y        NaN        28-Feb-99       $60,000.00    \n",
       "1  ...         N      Y        NaN        31-May-97       $40,000.00    \n",
       "2  ...         N      N        NaN        31-Dec-97      $287,000.00    \n",
       "3  ...         N      Y        NaN        30-Jun-97       $35,000.00    \n",
       "4  ...         N      N        NaN        14-May-97      $229,000.00    \n",
       "\n",
       "  BalanceGross MIS_Status ChgOffPrinGr        GrAppv      SBA_Appv  \n",
       "0       $0.00       P I F       $0.00    $60,000.00    $48,000.00   \n",
       "1       $0.00       P I F       $0.00    $40,000.00    $32,000.00   \n",
       "2       $0.00       P I F       $0.00   $287,000.00   $215,250.00   \n",
       "3       $0.00       P I F       $0.00    $35,000.00    $28,000.00   \n",
       "4       $0.00       P I F       $0.00   $229,000.00   $229,000.00   \n",
       "\n",
       "[5 rows x 27 columns]"
      ]
     },
     "execution_count": 62,
     "metadata": {},
     "output_type": "execute_result"
    }
   ],
   "source": [
    "\n",
    "#Importing Pandas\n",
    "import pandas as pd\n",
    "#Importing Numpy\n",
    "import numpy as np\n",
    "\n",
    "#Reading .csv file containing our data\n",
    "SBA_df = pd.read_csv('SBAnational.csv', sep=',', dtype='unicode')\n",
    "\n",
    "#Displaying data table\n",
    "SBA_df.head()"
   ]
  },
  {
   "cell_type": "code",
   "execution_count": 66,
   "id": "6c2fd781",
   "metadata": {},
   "outputs": [
    {
     "name": "stdout",
     "output_type": "stream",
     "text": [
      "<class 'pandas.core.frame.DataFrame'>\n",
      "RangeIndex: 899164 entries, 0 to 899163\n",
      "Data columns (total 27 columns):\n",
      " #   Column             Non-Null Count   Dtype \n",
      "---  ------             --------------   ----- \n",
      " 0   LoanNr_ChkDgt      899164 non-null  object\n",
      " 1   Name               899150 non-null  object\n",
      " 2   City               899134 non-null  object\n",
      " 3   State              899150 non-null  object\n",
      " 4   Zip                899164 non-null  object\n",
      " 5   Bank               897605 non-null  object\n",
      " 6   BankState          897598 non-null  object\n",
      " 7   NAICS              899164 non-null  object\n",
      " 8   ApprovalDate       899164 non-null  object\n",
      " 9   ApprovalFY         899164 non-null  object\n",
      " 10  Term               899164 non-null  object\n",
      " 11  NoEmp              899164 non-null  object\n",
      " 12  NewExist           899028 non-null  object\n",
      " 13  CreateJob          899164 non-null  object\n",
      " 14  RetainedJob        899164 non-null  object\n",
      " 15  FranchiseCode      899164 non-null  object\n",
      " 16  UrbanRural         899164 non-null  object\n",
      " 17  RevLineCr          894636 non-null  object\n",
      " 18  LowDoc             896582 non-null  object\n",
      " 19  ChgOffDate         162699 non-null  object\n",
      " 20  DisbursementDate   896796 non-null  object\n",
      " 21  DisbursementGross  899164 non-null  object\n",
      " 22  BalanceGross       899164 non-null  object\n",
      " 23  MIS_Status         897167 non-null  object\n",
      " 24  ChgOffPrinGr       899164 non-null  object\n",
      " 25  GrAppv             899164 non-null  object\n",
      " 26  SBA_Appv           899164 non-null  object\n",
      "dtypes: object(27)\n",
      "memory usage: 185.2+ MB\n"
     ]
    }
   ],
   "source": [
    "#Displaying attributes of the dataset, in order to see which variables relevant or not, for next preparation step.\n",
    "SBA_df.info()"
   ]
  },
  {
   "cell_type": "code",
   "execution_count": 67,
   "id": "951aa4b9",
   "metadata": {},
   "outputs": [],
   "source": [
    "#As we can see, we have 27 variables and they're all type \"object\". It is not nessecary to have all these variables, and we will there\n",
    "#-fore need, to drop some."
   ]
  },
  {
   "cell_type": "markdown",
   "id": "c0e5419b",
   "metadata": {},
   "source": [
    "# # Attribute clearing and dropping in dataset"
   ]
  },
  {
   "cell_type": "code",
   "execution_count": 1,
   "id": "975342d7",
   "metadata": {},
   "outputs": [
    {
     "name": "stdout",
     "output_type": "stream",
     "text": [
      "TEST 123321\n"
     ]
    }
   ],
   "source": [
    "print(\"TEST 123321\")"
   ]
  },
  {
   "cell_type": "code",
   "execution_count": null,
   "id": "04892145",
   "metadata": {},
   "outputs": [],
   "source": [
    "print(\"HEY\")"
   ]
  },
  {
   "cell_type": "code",
   "execution_count": null,
   "id": "3fc8918d",
   "metadata": {},
   "outputs": [],
   "source": []
  }
 ],
 "metadata": {
  "kernelspec": {
   "display_name": "Python 3 (ipykernel)",
   "language": "python",
   "name": "python3"
  },
  "language_info": {
   "codemirror_mode": {
    "name": "ipython",
    "version": 3
   },
   "file_extension": ".py",
   "mimetype": "text/x-python",
   "name": "python",
   "nbconvert_exporter": "python",
   "pygments_lexer": "ipython3",
   "version": "3.11.4"
  }
 },
 "nbformat": 4,
 "nbformat_minor": 5
}
