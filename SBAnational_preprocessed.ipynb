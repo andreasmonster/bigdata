{
 "cells": [
  {
   "cell_type": "markdown",
   "id": "d0302227",
   "metadata": {},
   "source": [
    "# SBA Loan Dataset Preprocessed\n",
    "\n",
    "The following is preprocessed dataset. The dataset will be processed throughout, in which comments will highlight the purpose of the reconstruction\n"
   ]
  },
  {
   "cell_type": "markdown",
   "id": "2a686131",
   "metadata": {},
   "source": []
  },
  {
   "cell_type": "code",
   "execution_count": 2,
   "id": "d01b2e31",
   "metadata": {},
   "outputs": [
    {
     "data": {
      "text/plain": [
       "'C:\\\\Users\\\\wowan\\\\OneDrive\\\\Skrivebord Bærebar\\\\BigData Exam\\\\bigdata'"
      ]
     },
     "execution_count": 2,
     "metadata": {},
     "output_type": "execute_result"
    }
   ],
   "source": [
    "import os \n",
    "os.getcwd()\n"
   ]
  },
  {
   "cell_type": "code",
   "execution_count": 3,
   "id": "d17f0ef4",
   "metadata": {},
   "outputs": [
    {
     "name": "stdout",
     "output_type": "stream",
     "text": [
      "Requirement already satisfied: pandas in c:\\users\\wowan\\anaconda3\\lib\\site-packages (1.5.3)\n",
      "Requirement already satisfied: python-dateutil>=2.8.1 in c:\\users\\wowan\\anaconda3\\lib\\site-packages (from pandas) (2.8.2)\n",
      "Requirement already satisfied: pytz>=2020.1 in c:\\users\\wowan\\anaconda3\\lib\\site-packages (from pandas) (2022.7)\n",
      "Requirement already satisfied: numpy>=1.21.0 in c:\\users\\wowan\\anaconda3\\lib\\site-packages (from pandas) (1.24.3)\n",
      "Requirement already satisfied: six>=1.5 in c:\\users\\wowan\\anaconda3\\lib\\site-packages (from python-dateutil>=2.8.1->pandas) (1.16.0)\n",
      "Requirement already satisfied: numpy in c:\\users\\wowan\\anaconda3\\lib\\site-packages (1.24.3)\n"
     ]
    }
   ],
   "source": [
    "#Changed main directory for .pyt file, in order to sync with GitHub when pushing.\n",
    "# Modules will be re-installed as following, since we have changed directory for the .lib which includes the modules.\n",
    "import sys\n",
    "!{sys.executable} -m pip install pandas\n",
    "\n",
    "import sys\n",
    "!{sys.executable} -m pip install numpy"
   ]
  },
  {
   "cell_type": "code",
   "execution_count": 4,
   "id": "1769be41",
   "metadata": {},
   "outputs": [
    {
     "data": {
      "text/html": [
       "<div>\n",
       "<style scoped>\n",
       "    .dataframe tbody tr th:only-of-type {\n",
       "        vertical-align: middle;\n",
       "    }\n",
       "\n",
       "    .dataframe tbody tr th {\n",
       "        vertical-align: top;\n",
       "    }\n",
       "\n",
       "    .dataframe thead th {\n",
       "        text-align: right;\n",
       "    }\n",
       "</style>\n",
       "<table border=\"1\" class=\"dataframe\">\n",
       "  <thead>\n",
       "    <tr style=\"text-align: right;\">\n",
       "      <th></th>\n",
       "      <th>LoanNr_ChkDgt</th>\n",
       "      <th>Name</th>\n",
       "      <th>City</th>\n",
       "      <th>State</th>\n",
       "      <th>Zip</th>\n",
       "      <th>Bank</th>\n",
       "      <th>BankState</th>\n",
       "      <th>NAICS</th>\n",
       "      <th>ApprovalDate</th>\n",
       "      <th>ApprovalFY</th>\n",
       "      <th>...</th>\n",
       "      <th>RevLineCr</th>\n",
       "      <th>LowDoc</th>\n",
       "      <th>ChgOffDate</th>\n",
       "      <th>DisbursementDate</th>\n",
       "      <th>DisbursementGross</th>\n",
       "      <th>BalanceGross</th>\n",
       "      <th>MIS_Status</th>\n",
       "      <th>ChgOffPrinGr</th>\n",
       "      <th>GrAppv</th>\n",
       "      <th>SBA_Appv</th>\n",
       "    </tr>\n",
       "  </thead>\n",
       "  <tbody>\n",
       "    <tr>\n",
       "      <th>0</th>\n",
       "      <td>1000014003</td>\n",
       "      <td>ABC HOBBYCRAFT</td>\n",
       "      <td>EVANSVILLE</td>\n",
       "      <td>IN</td>\n",
       "      <td>47711</td>\n",
       "      <td>FIFTH THIRD BANK</td>\n",
       "      <td>OH</td>\n",
       "      <td>451120</td>\n",
       "      <td>28-Feb-97</td>\n",
       "      <td>1997</td>\n",
       "      <td>...</td>\n",
       "      <td>N</td>\n",
       "      <td>Y</td>\n",
       "      <td>NaN</td>\n",
       "      <td>28-Feb-99</td>\n",
       "      <td>$60,000.00</td>\n",
       "      <td>$0.00</td>\n",
       "      <td>P I F</td>\n",
       "      <td>$0.00</td>\n",
       "      <td>$60,000.00</td>\n",
       "      <td>$48,000.00</td>\n",
       "    </tr>\n",
       "    <tr>\n",
       "      <th>1</th>\n",
       "      <td>1000024006</td>\n",
       "      <td>LANDMARK BAR &amp; GRILLE (THE)</td>\n",
       "      <td>NEW PARIS</td>\n",
       "      <td>IN</td>\n",
       "      <td>46526</td>\n",
       "      <td>1ST SOURCE BANK</td>\n",
       "      <td>IN</td>\n",
       "      <td>722410</td>\n",
       "      <td>28-Feb-97</td>\n",
       "      <td>1997</td>\n",
       "      <td>...</td>\n",
       "      <td>N</td>\n",
       "      <td>Y</td>\n",
       "      <td>NaN</td>\n",
       "      <td>31-May-97</td>\n",
       "      <td>$40,000.00</td>\n",
       "      <td>$0.00</td>\n",
       "      <td>P I F</td>\n",
       "      <td>$0.00</td>\n",
       "      <td>$40,000.00</td>\n",
       "      <td>$32,000.00</td>\n",
       "    </tr>\n",
       "    <tr>\n",
       "      <th>2</th>\n",
       "      <td>1000034009</td>\n",
       "      <td>WHITLOCK DDS, TODD M.</td>\n",
       "      <td>BLOOMINGTON</td>\n",
       "      <td>IN</td>\n",
       "      <td>47401</td>\n",
       "      <td>GRANT COUNTY STATE BANK</td>\n",
       "      <td>IN</td>\n",
       "      <td>621210</td>\n",
       "      <td>28-Feb-97</td>\n",
       "      <td>1997</td>\n",
       "      <td>...</td>\n",
       "      <td>N</td>\n",
       "      <td>N</td>\n",
       "      <td>NaN</td>\n",
       "      <td>31-Dec-97</td>\n",
       "      <td>$287,000.00</td>\n",
       "      <td>$0.00</td>\n",
       "      <td>P I F</td>\n",
       "      <td>$0.00</td>\n",
       "      <td>$287,000.00</td>\n",
       "      <td>$215,250.00</td>\n",
       "    </tr>\n",
       "    <tr>\n",
       "      <th>3</th>\n",
       "      <td>1000044001</td>\n",
       "      <td>BIG BUCKS PAWN &amp; JEWELRY, LLC</td>\n",
       "      <td>BROKEN ARROW</td>\n",
       "      <td>OK</td>\n",
       "      <td>74012</td>\n",
       "      <td>1ST NATL BK &amp; TR CO OF BROKEN</td>\n",
       "      <td>OK</td>\n",
       "      <td>0</td>\n",
       "      <td>28-Feb-97</td>\n",
       "      <td>1997</td>\n",
       "      <td>...</td>\n",
       "      <td>N</td>\n",
       "      <td>Y</td>\n",
       "      <td>NaN</td>\n",
       "      <td>30-Jun-97</td>\n",
       "      <td>$35,000.00</td>\n",
       "      <td>$0.00</td>\n",
       "      <td>P I F</td>\n",
       "      <td>$0.00</td>\n",
       "      <td>$35,000.00</td>\n",
       "      <td>$28,000.00</td>\n",
       "    </tr>\n",
       "    <tr>\n",
       "      <th>4</th>\n",
       "      <td>1000054004</td>\n",
       "      <td>ANASTASIA CONFECTIONS, INC.</td>\n",
       "      <td>ORLANDO</td>\n",
       "      <td>FL</td>\n",
       "      <td>32801</td>\n",
       "      <td>FLORIDA BUS. DEVEL CORP</td>\n",
       "      <td>FL</td>\n",
       "      <td>0</td>\n",
       "      <td>28-Feb-97</td>\n",
       "      <td>1997</td>\n",
       "      <td>...</td>\n",
       "      <td>N</td>\n",
       "      <td>N</td>\n",
       "      <td>NaN</td>\n",
       "      <td>14-May-97</td>\n",
       "      <td>$229,000.00</td>\n",
       "      <td>$0.00</td>\n",
       "      <td>P I F</td>\n",
       "      <td>$0.00</td>\n",
       "      <td>$229,000.00</td>\n",
       "      <td>$229,000.00</td>\n",
       "    </tr>\n",
       "  </tbody>\n",
       "</table>\n",
       "<p>5 rows × 27 columns</p>\n",
       "</div>"
      ],
      "text/plain": [
       "  LoanNr_ChkDgt                           Name          City State    Zip  \\\n",
       "0    1000014003                 ABC HOBBYCRAFT    EVANSVILLE    IN  47711   \n",
       "1    1000024006    LANDMARK BAR & GRILLE (THE)     NEW PARIS    IN  46526   \n",
       "2    1000034009          WHITLOCK DDS, TODD M.   BLOOMINGTON    IN  47401   \n",
       "3    1000044001  BIG BUCKS PAWN & JEWELRY, LLC  BROKEN ARROW    OK  74012   \n",
       "4    1000054004    ANASTASIA CONFECTIONS, INC.       ORLANDO    FL  32801   \n",
       "\n",
       "                            Bank BankState   NAICS ApprovalDate ApprovalFY  \\\n",
       "0               FIFTH THIRD BANK        OH  451120    28-Feb-97       1997   \n",
       "1                1ST SOURCE BANK        IN  722410    28-Feb-97       1997   \n",
       "2        GRANT COUNTY STATE BANK        IN  621210    28-Feb-97       1997   \n",
       "3  1ST NATL BK & TR CO OF BROKEN        OK       0    28-Feb-97       1997   \n",
       "4        FLORIDA BUS. DEVEL CORP        FL       0    28-Feb-97       1997   \n",
       "\n",
       "   ... RevLineCr LowDoc ChgOffDate DisbursementDate DisbursementGross  \\\n",
       "0  ...         N      Y        NaN        28-Feb-99       $60,000.00    \n",
       "1  ...         N      Y        NaN        31-May-97       $40,000.00    \n",
       "2  ...         N      N        NaN        31-Dec-97      $287,000.00    \n",
       "3  ...         N      Y        NaN        30-Jun-97       $35,000.00    \n",
       "4  ...         N      N        NaN        14-May-97      $229,000.00    \n",
       "\n",
       "  BalanceGross MIS_Status ChgOffPrinGr        GrAppv      SBA_Appv  \n",
       "0       $0.00       P I F       $0.00    $60,000.00    $48,000.00   \n",
       "1       $0.00       P I F       $0.00    $40,000.00    $32,000.00   \n",
       "2       $0.00       P I F       $0.00   $287,000.00   $215,250.00   \n",
       "3       $0.00       P I F       $0.00    $35,000.00    $28,000.00   \n",
       "4       $0.00       P I F       $0.00   $229,000.00   $229,000.00   \n",
       "\n",
       "[5 rows x 27 columns]"
      ]
     },
     "execution_count": 4,
     "metadata": {},
     "output_type": "execute_result"
    }
   ],
   "source": [
    "\n",
    "#Importing Pandas\n",
    "import pandas as pd\n",
    "#Importing Numpy\n",
    "import numpy as np\n",
    "\n",
    "#Reading .csv file containing our data\n",
    "SBAloan_df = pd.read_csv('SBAnational.csv', sep=',', dtype='unicode')\n",
    "\n",
    "#Displaying data table\n",
    "SBAloan_df.head()"
   ]
  },
  {
   "cell_type": "code",
   "execution_count": 5,
   "id": "6c2fd781",
   "metadata": {},
   "outputs": [
    {
     "name": "stdout",
     "output_type": "stream",
     "text": [
      "<class 'pandas.core.frame.DataFrame'>\n",
      "RangeIndex: 899164 entries, 0 to 899163\n",
      "Data columns (total 27 columns):\n",
      " #   Column             Non-Null Count   Dtype \n",
      "---  ------             --------------   ----- \n",
      " 0   LoanNr_ChkDgt      899164 non-null  object\n",
      " 1   Name               899150 non-null  object\n",
      " 2   City               899134 non-null  object\n",
      " 3   State              899150 non-null  object\n",
      " 4   Zip                899164 non-null  object\n",
      " 5   Bank               897605 non-null  object\n",
      " 6   BankState          897598 non-null  object\n",
      " 7   NAICS              899164 non-null  object\n",
      " 8   ApprovalDate       899164 non-null  object\n",
      " 9   ApprovalFY         899164 non-null  object\n",
      " 10  Term               899164 non-null  object\n",
      " 11  NoEmp              899164 non-null  object\n",
      " 12  NewExist           899028 non-null  object\n",
      " 13  CreateJob          899164 non-null  object\n",
      " 14  RetainedJob        899164 non-null  object\n",
      " 15  FranchiseCode      899164 non-null  object\n",
      " 16  UrbanRural         899164 non-null  object\n",
      " 17  RevLineCr          894636 non-null  object\n",
      " 18  LowDoc             896582 non-null  object\n",
      " 19  ChgOffDate         162699 non-null  object\n",
      " 20  DisbursementDate   896796 non-null  object\n",
      " 21  DisbursementGross  899164 non-null  object\n",
      " 22  BalanceGross       899164 non-null  object\n",
      " 23  MIS_Status         897167 non-null  object\n",
      " 24  ChgOffPrinGr       899164 non-null  object\n",
      " 25  GrAppv             899164 non-null  object\n",
      " 26  SBA_Appv           899164 non-null  object\n",
      "dtypes: object(27)\n",
      "memory usage: 185.2+ MB\n"
     ]
    }
   ],
   "source": [
    "#Displaying attributes of the dataset, in order to see which variables relevant or not, for next preparation step.\n",
    "SBAloan_df.info()"
   ]
  },
  {
   "cell_type": "code",
   "execution_count": 6,
   "id": "951aa4b9",
   "metadata": {},
   "outputs": [],
   "source": [
    "#As we can see, we have 27 variables and they're all type \"object\". It is not nessecary to have all these variables, and we will there\n",
    "#-fore need, to drop some."
   ]
  },
  {
   "cell_type": "markdown",
   "id": "c0e5419b",
   "metadata": {},
   "source": [
    "# # Attribute clearing and dropping in dataset"
   ]
  },
  {
   "cell_type": "code",
   "execution_count": 7,
   "id": "975342d7",
   "metadata": {},
   "outputs": [],
   "source": [
    "#From the attribution column, we can see there are many un-usefull variables, that will only cause noise in preparation for the data.\n",
    "#Therefore initiating drop command, to remove these from our dataset, and cleaning it up\n",
    "\n",
    "\n",
    "SBAloan_df = SBAloan_df.drop(columns=['CreateJob','RetainedJob','Zip','City','ChgOffDate','LoanNr_ChkDgt','Name','ApprovalDate','GrAppv','DisbursementDate','BalanceGross','ChgOffPrinGr','SBA_Appv','Bank','RevLineCr'])\n"
   ]
  },
  {
   "cell_type": "code",
   "execution_count": 8,
   "id": "04892145",
   "metadata": {},
   "outputs": [
    {
     "name": "stdout",
     "output_type": "stream",
     "text": [
      "<class 'pandas.core.frame.DataFrame'>\n",
      "RangeIndex: 899164 entries, 0 to 899163\n",
      "Data columns (total 12 columns):\n",
      " #   Column             Non-Null Count   Dtype \n",
      "---  ------             --------------   ----- \n",
      " 0   State              899150 non-null  object\n",
      " 1   BankState          897598 non-null  object\n",
      " 2   NAICS              899164 non-null  object\n",
      " 3   ApprovalFY         899164 non-null  object\n",
      " 4   Term               899164 non-null  object\n",
      " 5   NoEmp              899164 non-null  object\n",
      " 6   NewExist           899028 non-null  object\n",
      " 7   FranchiseCode      899164 non-null  object\n",
      " 8   UrbanRural         899164 non-null  object\n",
      " 9   LowDoc             896582 non-null  object\n",
      " 10  DisbursementGross  899164 non-null  object\n",
      " 11  MIS_Status         897167 non-null  object\n",
      "dtypes: object(12)\n",
      "memory usage: 82.3+ MB\n"
     ]
    },
    {
     "data": {
      "text/html": [
       "<div>\n",
       "<style scoped>\n",
       "    .dataframe tbody tr th:only-of-type {\n",
       "        vertical-align: middle;\n",
       "    }\n",
       "\n",
       "    .dataframe tbody tr th {\n",
       "        vertical-align: top;\n",
       "    }\n",
       "\n",
       "    .dataframe thead th {\n",
       "        text-align: right;\n",
       "    }\n",
       "</style>\n",
       "<table border=\"1\" class=\"dataframe\">\n",
       "  <thead>\n",
       "    <tr style=\"text-align: right;\">\n",
       "      <th></th>\n",
       "      <th>State</th>\n",
       "      <th>BankState</th>\n",
       "      <th>NAICS</th>\n",
       "      <th>ApprovalFY</th>\n",
       "      <th>Term</th>\n",
       "      <th>NoEmp</th>\n",
       "      <th>NewExist</th>\n",
       "      <th>FranchiseCode</th>\n",
       "      <th>UrbanRural</th>\n",
       "      <th>LowDoc</th>\n",
       "      <th>DisbursementGross</th>\n",
       "      <th>MIS_Status</th>\n",
       "    </tr>\n",
       "  </thead>\n",
       "  <tbody>\n",
       "    <tr>\n",
       "      <th>0</th>\n",
       "      <td>IN</td>\n",
       "      <td>OH</td>\n",
       "      <td>451120</td>\n",
       "      <td>1997</td>\n",
       "      <td>84</td>\n",
       "      <td>4</td>\n",
       "      <td>2</td>\n",
       "      <td>1</td>\n",
       "      <td>0</td>\n",
       "      <td>Y</td>\n",
       "      <td>$60,000.00</td>\n",
       "      <td>P I F</td>\n",
       "    </tr>\n",
       "    <tr>\n",
       "      <th>1</th>\n",
       "      <td>IN</td>\n",
       "      <td>IN</td>\n",
       "      <td>722410</td>\n",
       "      <td>1997</td>\n",
       "      <td>60</td>\n",
       "      <td>2</td>\n",
       "      <td>2</td>\n",
       "      <td>1</td>\n",
       "      <td>0</td>\n",
       "      <td>Y</td>\n",
       "      <td>$40,000.00</td>\n",
       "      <td>P I F</td>\n",
       "    </tr>\n",
       "    <tr>\n",
       "      <th>2</th>\n",
       "      <td>IN</td>\n",
       "      <td>IN</td>\n",
       "      <td>621210</td>\n",
       "      <td>1997</td>\n",
       "      <td>180</td>\n",
       "      <td>7</td>\n",
       "      <td>1</td>\n",
       "      <td>1</td>\n",
       "      <td>0</td>\n",
       "      <td>N</td>\n",
       "      <td>$287,000.00</td>\n",
       "      <td>P I F</td>\n",
       "    </tr>\n",
       "    <tr>\n",
       "      <th>3</th>\n",
       "      <td>OK</td>\n",
       "      <td>OK</td>\n",
       "      <td>0</td>\n",
       "      <td>1997</td>\n",
       "      <td>60</td>\n",
       "      <td>2</td>\n",
       "      <td>1</td>\n",
       "      <td>1</td>\n",
       "      <td>0</td>\n",
       "      <td>Y</td>\n",
       "      <td>$35,000.00</td>\n",
       "      <td>P I F</td>\n",
       "    </tr>\n",
       "    <tr>\n",
       "      <th>4</th>\n",
       "      <td>FL</td>\n",
       "      <td>FL</td>\n",
       "      <td>0</td>\n",
       "      <td>1997</td>\n",
       "      <td>240</td>\n",
       "      <td>14</td>\n",
       "      <td>1</td>\n",
       "      <td>1</td>\n",
       "      <td>0</td>\n",
       "      <td>N</td>\n",
       "      <td>$229,000.00</td>\n",
       "      <td>P I F</td>\n",
       "    </tr>\n",
       "  </tbody>\n",
       "</table>\n",
       "</div>"
      ],
      "text/plain": [
       "  State BankState   NAICS ApprovalFY Term NoEmp NewExist FranchiseCode  \\\n",
       "0    IN        OH  451120       1997   84     4        2             1   \n",
       "1    IN        IN  722410       1997   60     2        2             1   \n",
       "2    IN        IN  621210       1997  180     7        1             1   \n",
       "3    OK        OK       0       1997   60     2        1             1   \n",
       "4    FL        FL       0       1997  240    14        1             1   \n",
       "\n",
       "  UrbanRural LowDoc DisbursementGross MIS_Status  \n",
       "0          0      Y       $60,000.00       P I F  \n",
       "1          0      Y       $40,000.00       P I F  \n",
       "2          0      N      $287,000.00       P I F  \n",
       "3          0      Y       $35,000.00       P I F  \n",
       "4          0      N      $229,000.00       P I F  "
      ]
     },
     "execution_count": 8,
     "metadata": {},
     "output_type": "execute_result"
    }
   ],
   "source": [
    "#Now displaying our data, after dropping variables\n",
    "SBAloan_df.info()\n",
    "SBAloan_df.head()\n",
    "\n",
    "#We can see, that we're left with 12 variables."
   ]
  },
  {
   "cell_type": "markdown",
   "id": "741237ea",
   "metadata": {},
   "source": [
    "# # Fitting dataset to relevant years\n"
   ]
  },
  {
   "cell_type": "code",
   "execution_count": null,
   "id": "25e59bcf",
   "metadata": {},
   "outputs": [],
   "source": []
  },
  {
   "cell_type": "code",
   "execution_count": 9,
   "id": "4dd80fcd",
   "metadata": {},
   "outputs": [
    {
     "name": "stdout",
     "output_type": "stream",
     "text": [
      "<class 'pandas.core.frame.DataFrame'>\n",
      "RangeIndex: 899164 entries, 0 to 899163\n",
      "Data columns (total 12 columns):\n",
      " #   Column             Non-Null Count   Dtype  \n",
      "---  ------             --------------   -----  \n",
      " 0   State              899150 non-null  object \n",
      " 1   BankState          897598 non-null  object \n",
      " 2   NAICS              899164 non-null  int64  \n",
      " 3   ApprovalFY         899146 non-null  float64\n",
      " 4   Term               899164 non-null  int64  \n",
      " 5   NoEmp              899164 non-null  int64  \n",
      " 6   NewExist           899028 non-null  float64\n",
      " 7   FranchiseCode      899164 non-null  int64  \n",
      " 8   UrbanRural         899164 non-null  int64  \n",
      " 9   LowDoc             896582 non-null  object \n",
      " 10  DisbursementGross  899164 non-null  object \n",
      " 11  MIS_Status         897167 non-null  object \n",
      "dtypes: float64(2), int64(5), object(5)\n",
      "memory usage: 82.3+ MB\n"
     ]
    },
    {
     "data": {
      "text/html": [
       "<div>\n",
       "<style scoped>\n",
       "    .dataframe tbody tr th:only-of-type {\n",
       "        vertical-align: middle;\n",
       "    }\n",
       "\n",
       "    .dataframe tbody tr th {\n",
       "        vertical-align: top;\n",
       "    }\n",
       "\n",
       "    .dataframe thead th {\n",
       "        text-align: right;\n",
       "    }\n",
       "</style>\n",
       "<table border=\"1\" class=\"dataframe\">\n",
       "  <thead>\n",
       "    <tr style=\"text-align: right;\">\n",
       "      <th></th>\n",
       "      <th>State</th>\n",
       "      <th>BankState</th>\n",
       "      <th>NAICS</th>\n",
       "      <th>ApprovalFY</th>\n",
       "      <th>Term</th>\n",
       "      <th>NoEmp</th>\n",
       "      <th>NewExist</th>\n",
       "      <th>FranchiseCode</th>\n",
       "      <th>UrbanRural</th>\n",
       "      <th>LowDoc</th>\n",
       "      <th>DisbursementGross</th>\n",
       "      <th>MIS_Status</th>\n",
       "    </tr>\n",
       "  </thead>\n",
       "  <tbody>\n",
       "    <tr>\n",
       "      <th>0</th>\n",
       "      <td>IN</td>\n",
       "      <td>OH</td>\n",
       "      <td>451120</td>\n",
       "      <td>1997.0</td>\n",
       "      <td>84</td>\n",
       "      <td>4</td>\n",
       "      <td>2.0</td>\n",
       "      <td>1</td>\n",
       "      <td>0</td>\n",
       "      <td>Y</td>\n",
       "      <td>$60,000.00</td>\n",
       "      <td>P I F</td>\n",
       "    </tr>\n",
       "    <tr>\n",
       "      <th>1</th>\n",
       "      <td>IN</td>\n",
       "      <td>IN</td>\n",
       "      <td>722410</td>\n",
       "      <td>1997.0</td>\n",
       "      <td>60</td>\n",
       "      <td>2</td>\n",
       "      <td>2.0</td>\n",
       "      <td>1</td>\n",
       "      <td>0</td>\n",
       "      <td>Y</td>\n",
       "      <td>$40,000.00</td>\n",
       "      <td>P I F</td>\n",
       "    </tr>\n",
       "    <tr>\n",
       "      <th>2</th>\n",
       "      <td>IN</td>\n",
       "      <td>IN</td>\n",
       "      <td>621210</td>\n",
       "      <td>1997.0</td>\n",
       "      <td>180</td>\n",
       "      <td>7</td>\n",
       "      <td>1.0</td>\n",
       "      <td>1</td>\n",
       "      <td>0</td>\n",
       "      <td>N</td>\n",
       "      <td>$287,000.00</td>\n",
       "      <td>P I F</td>\n",
       "    </tr>\n",
       "    <tr>\n",
       "      <th>3</th>\n",
       "      <td>OK</td>\n",
       "      <td>OK</td>\n",
       "      <td>0</td>\n",
       "      <td>1997.0</td>\n",
       "      <td>60</td>\n",
       "      <td>2</td>\n",
       "      <td>1.0</td>\n",
       "      <td>1</td>\n",
       "      <td>0</td>\n",
       "      <td>Y</td>\n",
       "      <td>$35,000.00</td>\n",
       "      <td>P I F</td>\n",
       "    </tr>\n",
       "    <tr>\n",
       "      <th>4</th>\n",
       "      <td>FL</td>\n",
       "      <td>FL</td>\n",
       "      <td>0</td>\n",
       "      <td>1997.0</td>\n",
       "      <td>240</td>\n",
       "      <td>14</td>\n",
       "      <td>1.0</td>\n",
       "      <td>1</td>\n",
       "      <td>0</td>\n",
       "      <td>N</td>\n",
       "      <td>$229,000.00</td>\n",
       "      <td>P I F</td>\n",
       "    </tr>\n",
       "  </tbody>\n",
       "</table>\n",
       "</div>"
      ],
      "text/plain": [
       "  State BankState   NAICS  ApprovalFY  Term  NoEmp  NewExist  FranchiseCode  \\\n",
       "0    IN        OH  451120      1997.0    84      4       2.0              1   \n",
       "1    IN        IN  722410      1997.0    60      2       2.0              1   \n",
       "2    IN        IN  621210      1997.0   180      7       1.0              1   \n",
       "3    OK        OK       0      1997.0    60      2       1.0              1   \n",
       "4    FL        FL       0      1997.0   240     14       1.0              1   \n",
       "\n",
       "   UrbanRural LowDoc DisbursementGross MIS_Status  \n",
       "0           0      Y       $60,000.00       P I F  \n",
       "1           0      Y       $40,000.00       P I F  \n",
       "2           0      N      $287,000.00       P I F  \n",
       "3           0      Y       $35,000.00       P I F  \n",
       "4           0      N      $229,000.00       P I F  "
      ]
     },
     "execution_count": 9,
     "metadata": {},
     "output_type": "execute_result"
    }
   ],
   "source": [
    "#As seen the columns are all objects. Instead, we want to convert the relevant onces into integers, in order to \n",
    "#- use the data later on.\n",
    "\n",
    "SBAloan_df[\"ApprovalFY\"] = pd.to_numeric(SBAloan_df[\"ApprovalFY\"], errors='coerce')\n",
    "SBAloan_df[\"Term\"] = pd.to_numeric(SBAloan_df[\"Term\"], errors='coerce')\n",
    "SBAloan_df[\"NoEmp\"] = pd.to_numeric(SBAloan_df[\"NoEmp\"], errors='coerce')\n",
    "SBAloan_df[\"NewExist\"] = pd.to_numeric(SBAloan_df[\"NewExist\"], errors='coerce')\n",
    "SBAloan_df[\"FranchiseCode\"] = pd.to_numeric(SBAloan_df[\"FranchiseCode\"], errors='coerce')\n",
    "SBAloan_df[\"UrbanRural\"] = pd.to_numeric(SBAloan_df[\"UrbanRural\"], errors='coerce')\n",
    "SBAloan_df[\"NAICS\"] = pd.to_numeric(SBAloan_df[\"NAICS\"], errors='coerce')\n",
    "\n",
    "#If we receive an error (because of Not a Number value), we will drop it with the coerce command.\n",
    "SBAloan_df[\"ApprovalFY\"].dropna()\n",
    "\n",
    "SBAloan_df.info()\n",
    "SBAloan_df.head()"
   ]
  },
  {
   "cell_type": "code",
   "execution_count": 10,
   "id": "ee624acf",
   "metadata": {},
   "outputs": [
    {
     "name": "stdout",
     "output_type": "stream",
     "text": [
      "  State BankState   NAICS  ApprovalFY  Term  NoEmp  NewExist  FranchiseCode  \\\n",
      "0    IN        OH  451120        1997    84      4       2.0              1   \n",
      "1    IN        IN  722410        1997    60      2       2.0              1   \n",
      "2    IN        IN  621210        1997   180      7       1.0              1   \n",
      "3    OK        OK       0        1997    60      2       1.0              1   \n",
      "4    FL        FL       0        1997   240     14       1.0              1   \n",
      "\n",
      "   UrbanRural LowDoc DisbursementGross MIS_Status  \n",
      "0           0      Y       $60,000.00       P I F  \n",
      "1           0      Y       $40,000.00       P I F  \n",
      "2           0      N      $287,000.00       P I F  \n",
      "3           0      Y       $35,000.00       P I F  \n",
      "4           0      N      $229,000.00       P I F  \n"
     ]
    }
   ],
   "source": [
    "#Checking for NaN instances\n",
    "SBAloan_df.isna().sum()\n",
    "\n",
    "\n",
    "#If NaN occures it will be filled with value 0\n",
    "SBAloan_df[\"ApprovalFY\"] = SBAloan_df[\"ApprovalFY\"].fillna(0).round().astype(np.int64)\n",
    "\n",
    "print(SBAloan_df.head())"
   ]
  },
  {
   "cell_type": "code",
   "execution_count": 11,
   "id": "6139cb10",
   "metadata": {},
   "outputs": [
    {
     "name": "stdout",
     "output_type": "stream",
     "text": [
      "<class 'pandas.core.frame.DataFrame'>\n",
      "Int64Index: 168721 entries, 143841 to 896097\n",
      "Data columns (total 12 columns):\n",
      " #   Column             Non-Null Count   Dtype  \n",
      "---  ------             --------------   -----  \n",
      " 0   State              168721 non-null  object \n",
      " 1   BankState          168720 non-null  object \n",
      " 2   NAICS              168721 non-null  int64  \n",
      " 3   ApprovalFY         168721 non-null  int64  \n",
      " 4   Term               168721 non-null  int64  \n",
      " 5   NoEmp              168721 non-null  int64  \n",
      " 6   NewExist           168585 non-null  float64\n",
      " 7   FranchiseCode      168721 non-null  int64  \n",
      " 8   UrbanRural         168721 non-null  int64  \n",
      " 9   LowDoc             166142 non-null  object \n",
      " 10  DisbursementGross  168721 non-null  object \n",
      " 11  MIS_Status         168346 non-null  object \n",
      "dtypes: float64(1), int64(6), object(5)\n",
      "memory usage: 16.7+ MB\n"
     ]
    },
    {
     "data": {
      "text/html": [
       "<div>\n",
       "<style scoped>\n",
       "    .dataframe tbody tr th:only-of-type {\n",
       "        vertical-align: middle;\n",
       "    }\n",
       "\n",
       "    .dataframe tbody tr th {\n",
       "        vertical-align: top;\n",
       "    }\n",
       "\n",
       "    .dataframe thead th {\n",
       "        text-align: right;\n",
       "    }\n",
       "</style>\n",
       "<table border=\"1\" class=\"dataframe\">\n",
       "  <thead>\n",
       "    <tr style=\"text-align: right;\">\n",
       "      <th></th>\n",
       "      <th>State</th>\n",
       "      <th>BankState</th>\n",
       "      <th>NAICS</th>\n",
       "      <th>ApprovalFY</th>\n",
       "      <th>Term</th>\n",
       "      <th>NoEmp</th>\n",
       "      <th>NewExist</th>\n",
       "      <th>FranchiseCode</th>\n",
       "      <th>UrbanRural</th>\n",
       "      <th>LowDoc</th>\n",
       "      <th>DisbursementGross</th>\n",
       "      <th>MIS_Status</th>\n",
       "    </tr>\n",
       "  </thead>\n",
       "  <tbody>\n",
       "    <tr>\n",
       "      <th>143841</th>\n",
       "      <td>NC</td>\n",
       "      <td>NC</td>\n",
       "      <td>453998</td>\n",
       "      <td>2007</td>\n",
       "      <td>60</td>\n",
       "      <td>6</td>\n",
       "      <td>1.0</td>\n",
       "      <td>0</td>\n",
       "      <td>1</td>\n",
       "      <td>N</td>\n",
       "      <td>$79,500.00</td>\n",
       "      <td>P I F</td>\n",
       "    </tr>\n",
       "    <tr>\n",
       "      <th>143842</th>\n",
       "      <td>NJ</td>\n",
       "      <td>DE</td>\n",
       "      <td>448190</td>\n",
       "      <td>2007</td>\n",
       "      <td>60</td>\n",
       "      <td>1</td>\n",
       "      <td>2.0</td>\n",
       "      <td>0</td>\n",
       "      <td>1</td>\n",
       "      <td>N</td>\n",
       "      <td>$35,000.00</td>\n",
       "      <td>P I F</td>\n",
       "    </tr>\n",
       "    <tr>\n",
       "      <th>143845</th>\n",
       "      <td>NJ</td>\n",
       "      <td>DE</td>\n",
       "      <td>448190</td>\n",
       "      <td>2007</td>\n",
       "      <td>78</td>\n",
       "      <td>1</td>\n",
       "      <td>2.0</td>\n",
       "      <td>0</td>\n",
       "      <td>1</td>\n",
       "      <td>N</td>\n",
       "      <td>$39,737.00</td>\n",
       "      <td>P I F</td>\n",
       "    </tr>\n",
       "    <tr>\n",
       "      <th>143846</th>\n",
       "      <td>CA</td>\n",
       "      <td>VA</td>\n",
       "      <td>423930</td>\n",
       "      <td>2007</td>\n",
       "      <td>58</td>\n",
       "      <td>20</td>\n",
       "      <td>1.0</td>\n",
       "      <td>0</td>\n",
       "      <td>1</td>\n",
       "      <td>N</td>\n",
       "      <td>$100,000.00</td>\n",
       "      <td>CHGOFF</td>\n",
       "    </tr>\n",
       "    <tr>\n",
       "      <th>143851</th>\n",
       "      <td>VT</td>\n",
       "      <td>VT</td>\n",
       "      <td>517910</td>\n",
       "      <td>2007</td>\n",
       "      <td>13</td>\n",
       "      <td>3</td>\n",
       "      <td>1.0</td>\n",
       "      <td>0</td>\n",
       "      <td>2</td>\n",
       "      <td>N</td>\n",
       "      <td>$50,000.00</td>\n",
       "      <td>P I F</td>\n",
       "    </tr>\n",
       "  </tbody>\n",
       "</table>\n",
       "</div>"
      ],
      "text/plain": [
       "       State BankState   NAICS  ApprovalFY  Term  NoEmp  NewExist  \\\n",
       "143841    NC        NC  453998        2007    60      6       1.0   \n",
       "143842    NJ        DE  448190        2007    60      1       2.0   \n",
       "143845    NJ        DE  448190        2007    78      1       2.0   \n",
       "143846    CA        VA  423930        2007    58     20       1.0   \n",
       "143851    VT        VT  517910        2007    13      3       1.0   \n",
       "\n",
       "        FranchiseCode  UrbanRural LowDoc DisbursementGross MIS_Status  \n",
       "143841              0           1      N       $79,500.00       P I F  \n",
       "143842              0           1      N       $35,000.00       P I F  \n",
       "143845              0           1      N       $39,737.00       P I F  \n",
       "143846              0           1      N      $100,000.00      CHGOFF  \n",
       "143851              0           2      N       $50,000.00       P I F  "
      ]
     },
     "execution_count": 11,
     "metadata": {},
     "output_type": "execute_result"
    }
   ],
   "source": [
    "#In order to reduce the dataset we have chosen to take the years 2007-2015 into account.\n",
    "\n",
    "SBAloan_df = SBAloan_df.drop(SBAloan_df[(SBAloan_df[\"ApprovalFY\"]<2007)| (SBAloan_df[\"ApprovalFY\"] > 2015)].index)\n",
    "SBAloan_df.info()\n",
    "\n",
    "SBAloan_df.head()\n",
    "\n"
   ]
  },
  {
   "cell_type": "code",
   "execution_count": 12,
   "id": "e11ef86a",
   "metadata": {},
   "outputs": [
    {
     "name": "stdout",
     "output_type": "stream",
     "text": [
      "<class 'pandas.core.frame.DataFrame'>\n",
      "Int64Index: 165639 entries, 143841 to 896097\n",
      "Data columns (total 12 columns):\n",
      " #   Column             Non-Null Count   Dtype  \n",
      "---  ------             --------------   -----  \n",
      " 0   State              165639 non-null  object \n",
      " 1   BankState          165639 non-null  object \n",
      " 2   NAICS              165639 non-null  int64  \n",
      " 3   ApprovalFY         165639 non-null  int64  \n",
      " 4   Term               165639 non-null  int64  \n",
      " 5   NoEmp              165639 non-null  int64  \n",
      " 6   NewExist           165639 non-null  float64\n",
      " 7   FranchiseCode      165639 non-null  int64  \n",
      " 8   UrbanRural         165639 non-null  int64  \n",
      " 9   LowDoc             165639 non-null  object \n",
      " 10  DisbursementGross  165639 non-null  object \n",
      " 11  MIS_Status         165639 non-null  object \n",
      "dtypes: float64(1), int64(6), object(5)\n",
      "memory usage: 16.4+ MB\n"
     ]
    }
   ],
   "source": [
    "#Again removing any missing columns with either NaN or null values, for our filtered data.\n",
    "\n",
    "SBAloan_df.dropna()\n",
    "SBAloan_df.dropna(inplace=True)\n",
    "SBAloan_df.info()"
   ]
  },
  {
   "cell_type": "markdown",
   "id": "4d98081a",
   "metadata": {},
   "source": [
    "# # Configuring each variable to fit the model\n",
    "\n",
    "### Variable: DisbursementGross"
   ]
  },
  {
   "cell_type": "code",
   "execution_count": 13,
   "id": "52af5c3b",
   "metadata": {},
   "outputs": [
    {
     "name": "stdout",
     "output_type": "stream",
     "text": [
      "<class 'pandas.core.frame.DataFrame'>\n",
      "Int64Index: 165639 entries, 143841 to 896097\n",
      "Data columns (total 12 columns):\n",
      " #   Column             Non-Null Count   Dtype  \n",
      "---  ------             --------------   -----  \n",
      " 0   State              165639 non-null  object \n",
      " 1   BankState          165639 non-null  object \n",
      " 2   NAICS              165639 non-null  int64  \n",
      " 3   ApprovalFY         165639 non-null  int64  \n",
      " 4   Term               165639 non-null  int64  \n",
      " 5   NoEmp              165639 non-null  int64  \n",
      " 6   NewExist           165639 non-null  float64\n",
      " 7   FranchiseCode      165639 non-null  int64  \n",
      " 8   UrbanRural         165639 non-null  int64  \n",
      " 9   LowDoc             165639 non-null  object \n",
      " 10  DisbursementGross  165639 non-null  string \n",
      " 11  MIS_Status         165639 non-null  object \n",
      "dtypes: float64(1), int64(6), object(4), string(1)\n",
      "memory usage: 16.4+ MB\n"
     ]
    },
    {
     "data": {
      "text/html": [
       "<div>\n",
       "<style scoped>\n",
       "    .dataframe tbody tr th:only-of-type {\n",
       "        vertical-align: middle;\n",
       "    }\n",
       "\n",
       "    .dataframe tbody tr th {\n",
       "        vertical-align: top;\n",
       "    }\n",
       "\n",
       "    .dataframe thead th {\n",
       "        text-align: right;\n",
       "    }\n",
       "</style>\n",
       "<table border=\"1\" class=\"dataframe\">\n",
       "  <thead>\n",
       "    <tr style=\"text-align: right;\">\n",
       "      <th></th>\n",
       "      <th>State</th>\n",
       "      <th>BankState</th>\n",
       "      <th>NAICS</th>\n",
       "      <th>ApprovalFY</th>\n",
       "      <th>Term</th>\n",
       "      <th>NoEmp</th>\n",
       "      <th>NewExist</th>\n",
       "      <th>FranchiseCode</th>\n",
       "      <th>UrbanRural</th>\n",
       "      <th>LowDoc</th>\n",
       "      <th>DisbursementGross</th>\n",
       "      <th>MIS_Status</th>\n",
       "    </tr>\n",
       "  </thead>\n",
       "  <tbody>\n",
       "    <tr>\n",
       "      <th>143841</th>\n",
       "      <td>NC</td>\n",
       "      <td>NC</td>\n",
       "      <td>453998</td>\n",
       "      <td>2007</td>\n",
       "      <td>60</td>\n",
       "      <td>6</td>\n",
       "      <td>1.0</td>\n",
       "      <td>0</td>\n",
       "      <td>1</td>\n",
       "      <td>N</td>\n",
       "      <td>79,500.00</td>\n",
       "      <td>P I F</td>\n",
       "    </tr>\n",
       "    <tr>\n",
       "      <th>143842</th>\n",
       "      <td>NJ</td>\n",
       "      <td>DE</td>\n",
       "      <td>448190</td>\n",
       "      <td>2007</td>\n",
       "      <td>60</td>\n",
       "      <td>1</td>\n",
       "      <td>2.0</td>\n",
       "      <td>0</td>\n",
       "      <td>1</td>\n",
       "      <td>N</td>\n",
       "      <td>35,000.00</td>\n",
       "      <td>P I F</td>\n",
       "    </tr>\n",
       "    <tr>\n",
       "      <th>143845</th>\n",
       "      <td>NJ</td>\n",
       "      <td>DE</td>\n",
       "      <td>448190</td>\n",
       "      <td>2007</td>\n",
       "      <td>78</td>\n",
       "      <td>1</td>\n",
       "      <td>2.0</td>\n",
       "      <td>0</td>\n",
       "      <td>1</td>\n",
       "      <td>N</td>\n",
       "      <td>39,737.00</td>\n",
       "      <td>P I F</td>\n",
       "    </tr>\n",
       "    <tr>\n",
       "      <th>143846</th>\n",
       "      <td>CA</td>\n",
       "      <td>VA</td>\n",
       "      <td>423930</td>\n",
       "      <td>2007</td>\n",
       "      <td>58</td>\n",
       "      <td>20</td>\n",
       "      <td>1.0</td>\n",
       "      <td>0</td>\n",
       "      <td>1</td>\n",
       "      <td>N</td>\n",
       "      <td>100,000.00</td>\n",
       "      <td>CHGOFF</td>\n",
       "    </tr>\n",
       "    <tr>\n",
       "      <th>143851</th>\n",
       "      <td>VT</td>\n",
       "      <td>VT</td>\n",
       "      <td>517910</td>\n",
       "      <td>2007</td>\n",
       "      <td>13</td>\n",
       "      <td>3</td>\n",
       "      <td>1.0</td>\n",
       "      <td>0</td>\n",
       "      <td>2</td>\n",
       "      <td>N</td>\n",
       "      <td>50,000.00</td>\n",
       "      <td>P I F</td>\n",
       "    </tr>\n",
       "  </tbody>\n",
       "</table>\n",
       "</div>"
      ],
      "text/plain": [
       "       State BankState   NAICS  ApprovalFY  Term  NoEmp  NewExist  \\\n",
       "143841    NC        NC  453998        2007    60      6       1.0   \n",
       "143842    NJ        DE  448190        2007    60      1       2.0   \n",
       "143845    NJ        DE  448190        2007    78      1       2.0   \n",
       "143846    CA        VA  423930        2007    58     20       1.0   \n",
       "143851    VT        VT  517910        2007    13      3       1.0   \n",
       "\n",
       "        FranchiseCode  UrbanRural LowDoc DisbursementGross MIS_Status  \n",
       "143841              0           1      N        79,500.00       P I F  \n",
       "143842              0           1      N        35,000.00       P I F  \n",
       "143845              0           1      N        39,737.00       P I F  \n",
       "143846              0           1      N       100,000.00      CHGOFF  \n",
       "143851              0           2      N        50,000.00       P I F  "
      ]
     },
     "execution_count": 13,
     "metadata": {},
     "output_type": "execute_result"
    }
   ],
   "source": [
    "#DisbursementGross variable contains value in dollars, which we want to remove, in order to work on the data\n",
    "#We start doing this by converting the variable intro a string\n",
    "#Source https://pbpython.com/currency-cleanup.html\n",
    "\n",
    "SBAloan_df['DisbursementGross'] = SBAloan_df[\"DisbursementGross\"].astype(\"string\")\n",
    "SBAloan_df.info()\n",
    "\n",
    "#Now removing the dollar sign\n",
    "SBAloan_df['DisbursementGross'] = SBAloan_df['DisbursementGross'].str.replace('$','', regex=True)\n",
    "SBAloan_df.head()"
   ]
  },
  {
   "cell_type": "code",
   "execution_count": 14,
   "id": "9a579e50",
   "metadata": {},
   "outputs": [
    {
     "data": {
      "text/html": [
       "<div>\n",
       "<style scoped>\n",
       "    .dataframe tbody tr th:only-of-type {\n",
       "        vertical-align: middle;\n",
       "    }\n",
       "\n",
       "    .dataframe tbody tr th {\n",
       "        vertical-align: top;\n",
       "    }\n",
       "\n",
       "    .dataframe thead th {\n",
       "        text-align: right;\n",
       "    }\n",
       "</style>\n",
       "<table border=\"1\" class=\"dataframe\">\n",
       "  <thead>\n",
       "    <tr style=\"text-align: right;\">\n",
       "      <th></th>\n",
       "      <th>State</th>\n",
       "      <th>BankState</th>\n",
       "      <th>NAICS</th>\n",
       "      <th>ApprovalFY</th>\n",
       "      <th>Term</th>\n",
       "      <th>NoEmp</th>\n",
       "      <th>NewExist</th>\n",
       "      <th>FranchiseCode</th>\n",
       "      <th>UrbanRural</th>\n",
       "      <th>LowDoc</th>\n",
       "      <th>DisbursementGross</th>\n",
       "      <th>MIS_Status</th>\n",
       "    </tr>\n",
       "  </thead>\n",
       "  <tbody>\n",
       "    <tr>\n",
       "      <th>143841</th>\n",
       "      <td>NC</td>\n",
       "      <td>NC</td>\n",
       "      <td>453998</td>\n",
       "      <td>2007</td>\n",
       "      <td>60</td>\n",
       "      <td>6</td>\n",
       "      <td>1.0</td>\n",
       "      <td>0</td>\n",
       "      <td>1</td>\n",
       "      <td>N</td>\n",
       "      <td>79,500.00</td>\n",
       "      <td>P I F</td>\n",
       "    </tr>\n",
       "    <tr>\n",
       "      <th>143842</th>\n",
       "      <td>NJ</td>\n",
       "      <td>DE</td>\n",
       "      <td>448190</td>\n",
       "      <td>2007</td>\n",
       "      <td>60</td>\n",
       "      <td>1</td>\n",
       "      <td>2.0</td>\n",
       "      <td>0</td>\n",
       "      <td>1</td>\n",
       "      <td>N</td>\n",
       "      <td>35,000.00</td>\n",
       "      <td>P I F</td>\n",
       "    </tr>\n",
       "    <tr>\n",
       "      <th>143845</th>\n",
       "      <td>NJ</td>\n",
       "      <td>DE</td>\n",
       "      <td>448190</td>\n",
       "      <td>2007</td>\n",
       "      <td>78</td>\n",
       "      <td>1</td>\n",
       "      <td>2.0</td>\n",
       "      <td>0</td>\n",
       "      <td>1</td>\n",
       "      <td>N</td>\n",
       "      <td>39,737.00</td>\n",
       "      <td>P I F</td>\n",
       "    </tr>\n",
       "    <tr>\n",
       "      <th>143846</th>\n",
       "      <td>CA</td>\n",
       "      <td>VA</td>\n",
       "      <td>423930</td>\n",
       "      <td>2007</td>\n",
       "      <td>58</td>\n",
       "      <td>20</td>\n",
       "      <td>1.0</td>\n",
       "      <td>0</td>\n",
       "      <td>1</td>\n",
       "      <td>N</td>\n",
       "      <td>100,000.00</td>\n",
       "      <td>CHGOFF</td>\n",
       "    </tr>\n",
       "    <tr>\n",
       "      <th>143851</th>\n",
       "      <td>VT</td>\n",
       "      <td>VT</td>\n",
       "      <td>517910</td>\n",
       "      <td>2007</td>\n",
       "      <td>13</td>\n",
       "      <td>3</td>\n",
       "      <td>1.0</td>\n",
       "      <td>0</td>\n",
       "      <td>2</td>\n",
       "      <td>N</td>\n",
       "      <td>50,000.00</td>\n",
       "      <td>P I F</td>\n",
       "    </tr>\n",
       "  </tbody>\n",
       "</table>\n",
       "</div>"
      ],
      "text/plain": [
       "       State BankState   NAICS  ApprovalFY  Term  NoEmp  NewExist  \\\n",
       "143841    NC        NC  453998        2007    60      6       1.0   \n",
       "143842    NJ        DE  448190        2007    60      1       2.0   \n",
       "143845    NJ        DE  448190        2007    78      1       2.0   \n",
       "143846    CA        VA  423930        2007    58     20       1.0   \n",
       "143851    VT        VT  517910        2007    13      3       1.0   \n",
       "\n",
       "        FranchiseCode  UrbanRural LowDoc DisbursementGross MIS_Status  \n",
       "143841              0           1      N         79,500.00      P I F  \n",
       "143842              0           1      N         35,000.00      P I F  \n",
       "143845              0           1      N         39,737.00      P I F  \n",
       "143846              0           1      N        100,000.00     CHGOFF  \n",
       "143851              0           2      N         50,000.00      P I F  "
      ]
     },
     "execution_count": 14,
     "metadata": {},
     "output_type": "execute_result"
    }
   ],
   "source": [
    "#Now removing the space which has replaced the dollar sign\n",
    "\n",
    "SBAloan_df['DisbursementGross'] = SBAloan_df['DisbursementGross'].str.replace(' ','', regex=True)\n",
    "SBAloan_df.head()"
   ]
  },
  {
   "cell_type": "code",
   "execution_count": 15,
   "id": "64dfe6f0",
   "metadata": {},
   "outputs": [
    {
     "data": {
      "text/html": [
       "<div>\n",
       "<style scoped>\n",
       "    .dataframe tbody tr th:only-of-type {\n",
       "        vertical-align: middle;\n",
       "    }\n",
       "\n",
       "    .dataframe tbody tr th {\n",
       "        vertical-align: top;\n",
       "    }\n",
       "\n",
       "    .dataframe thead th {\n",
       "        text-align: right;\n",
       "    }\n",
       "</style>\n",
       "<table border=\"1\" class=\"dataframe\">\n",
       "  <thead>\n",
       "    <tr style=\"text-align: right;\">\n",
       "      <th></th>\n",
       "      <th>State</th>\n",
       "      <th>BankState</th>\n",
       "      <th>NAICS</th>\n",
       "      <th>ApprovalFY</th>\n",
       "      <th>Term</th>\n",
       "      <th>NoEmp</th>\n",
       "      <th>NewExist</th>\n",
       "      <th>FranchiseCode</th>\n",
       "      <th>UrbanRural</th>\n",
       "      <th>LowDoc</th>\n",
       "      <th>DisbursementGross</th>\n",
       "      <th>MIS_Status</th>\n",
       "    </tr>\n",
       "  </thead>\n",
       "  <tbody>\n",
       "    <tr>\n",
       "      <th>143841</th>\n",
       "      <td>NC</td>\n",
       "      <td>NC</td>\n",
       "      <td>453998</td>\n",
       "      <td>2007</td>\n",
       "      <td>60</td>\n",
       "      <td>6</td>\n",
       "      <td>1.0</td>\n",
       "      <td>0</td>\n",
       "      <td>1</td>\n",
       "      <td>N</td>\n",
       "      <td>79500</td>\n",
       "      <td>P I F</td>\n",
       "    </tr>\n",
       "    <tr>\n",
       "      <th>143842</th>\n",
       "      <td>NJ</td>\n",
       "      <td>DE</td>\n",
       "      <td>448190</td>\n",
       "      <td>2007</td>\n",
       "      <td>60</td>\n",
       "      <td>1</td>\n",
       "      <td>2.0</td>\n",
       "      <td>0</td>\n",
       "      <td>1</td>\n",
       "      <td>N</td>\n",
       "      <td>35000</td>\n",
       "      <td>P I F</td>\n",
       "    </tr>\n",
       "    <tr>\n",
       "      <th>143845</th>\n",
       "      <td>NJ</td>\n",
       "      <td>DE</td>\n",
       "      <td>448190</td>\n",
       "      <td>2007</td>\n",
       "      <td>78</td>\n",
       "      <td>1</td>\n",
       "      <td>2.0</td>\n",
       "      <td>0</td>\n",
       "      <td>1</td>\n",
       "      <td>N</td>\n",
       "      <td>39737</td>\n",
       "      <td>P I F</td>\n",
       "    </tr>\n",
       "    <tr>\n",
       "      <th>143846</th>\n",
       "      <td>CA</td>\n",
       "      <td>VA</td>\n",
       "      <td>423930</td>\n",
       "      <td>2007</td>\n",
       "      <td>58</td>\n",
       "      <td>20</td>\n",
       "      <td>1.0</td>\n",
       "      <td>0</td>\n",
       "      <td>1</td>\n",
       "      <td>N</td>\n",
       "      <td>100000</td>\n",
       "      <td>CHGOFF</td>\n",
       "    </tr>\n",
       "    <tr>\n",
       "      <th>143851</th>\n",
       "      <td>VT</td>\n",
       "      <td>VT</td>\n",
       "      <td>517910</td>\n",
       "      <td>2007</td>\n",
       "      <td>13</td>\n",
       "      <td>3</td>\n",
       "      <td>1.0</td>\n",
       "      <td>0</td>\n",
       "      <td>2</td>\n",
       "      <td>N</td>\n",
       "      <td>50000</td>\n",
       "      <td>P I F</td>\n",
       "    </tr>\n",
       "  </tbody>\n",
       "</table>\n",
       "</div>"
      ],
      "text/plain": [
       "       State BankState   NAICS  ApprovalFY  Term  NoEmp  NewExist  \\\n",
       "143841    NC        NC  453998        2007    60      6       1.0   \n",
       "143842    NJ        DE  448190        2007    60      1       2.0   \n",
       "143845    NJ        DE  448190        2007    78      1       2.0   \n",
       "143846    CA        VA  423930        2007    58     20       1.0   \n",
       "143851    VT        VT  517910        2007    13      3       1.0   \n",
       "\n",
       "        FranchiseCode  UrbanRural LowDoc DisbursementGross MIS_Status  \n",
       "143841              0           1      N             79500      P I F  \n",
       "143842              0           1      N             35000      P I F  \n",
       "143845              0           1      N             39737      P I F  \n",
       "143846              0           1      N            100000     CHGOFF  \n",
       "143851              0           2      N             50000      P I F  "
      ]
     },
     "execution_count": 15,
     "metadata": {},
     "output_type": "execute_result"
    }
   ],
   "source": [
    "#Now removing the thousandsseparator and the two last digits (decimals)\n",
    "\n",
    "SBAloan_df['DisbursementGross'] = SBAloan_df['DisbursementGross'].str.replace(',', '', regex=True)\n",
    "\n",
    "SBAloan_df['DisbursementGross'] = SBAloan_df['DisbursementGross'].str.replace('.', '', regex=True)\n",
    "\n",
    "#Removing the decimals, by slicing in the string\n",
    "#source https://stackoverflow.com/questions/15535205/what-does-1-mean-do-in-python\n",
    "\n",
    "SBAloan_df['DisbursementGross'] = SBAloan_df['DisbursementGross'].str[:-2]\n",
    "\n",
    "#Displaying data\n",
    "SBAloan_df.head()\n"
   ]
  },
  {
   "cell_type": "code",
   "execution_count": 16,
   "id": "2b959b31",
   "metadata": {},
   "outputs": [
    {
     "name": "stdout",
     "output_type": "stream",
     "text": [
      "<class 'pandas.core.frame.DataFrame'>\n",
      "Int64Index: 165639 entries, 143841 to 896097\n",
      "Data columns (total 12 columns):\n",
      " #   Column             Non-Null Count   Dtype  \n",
      "---  ------             --------------   -----  \n",
      " 0   State              165639 non-null  object \n",
      " 1   BankState          165639 non-null  object \n",
      " 2   NAICS              165639 non-null  int64  \n",
      " 3   ApprovalFY         165639 non-null  int64  \n",
      " 4   Term               165639 non-null  int64  \n",
      " 5   NoEmp              165639 non-null  int64  \n",
      " 6   NewExist           165639 non-null  float64\n",
      " 7   FranchiseCode      165639 non-null  int64  \n",
      " 8   UrbanRural         165639 non-null  int64  \n",
      " 9   LowDoc             165639 non-null  object \n",
      " 10  DisbursementGross  165639 non-null  int64  \n",
      " 11  MIS_Status         165639 non-null  object \n",
      "dtypes: float64(1), int64(7), object(4)\n",
      "memory usage: 16.4+ MB\n"
     ]
    },
    {
     "data": {
      "text/html": [
       "<div>\n",
       "<style scoped>\n",
       "    .dataframe tbody tr th:only-of-type {\n",
       "        vertical-align: middle;\n",
       "    }\n",
       "\n",
       "    .dataframe tbody tr th {\n",
       "        vertical-align: top;\n",
       "    }\n",
       "\n",
       "    .dataframe thead th {\n",
       "        text-align: right;\n",
       "    }\n",
       "</style>\n",
       "<table border=\"1\" class=\"dataframe\">\n",
       "  <thead>\n",
       "    <tr style=\"text-align: right;\">\n",
       "      <th></th>\n",
       "      <th>State</th>\n",
       "      <th>BankState</th>\n",
       "      <th>NAICS</th>\n",
       "      <th>ApprovalFY</th>\n",
       "      <th>Term</th>\n",
       "      <th>NoEmp</th>\n",
       "      <th>NewExist</th>\n",
       "      <th>FranchiseCode</th>\n",
       "      <th>UrbanRural</th>\n",
       "      <th>LowDoc</th>\n",
       "      <th>DisbursementGross</th>\n",
       "      <th>MIS_Status</th>\n",
       "    </tr>\n",
       "  </thead>\n",
       "  <tbody>\n",
       "    <tr>\n",
       "      <th>143841</th>\n",
       "      <td>NC</td>\n",
       "      <td>NC</td>\n",
       "      <td>453998</td>\n",
       "      <td>2007</td>\n",
       "      <td>60</td>\n",
       "      <td>6</td>\n",
       "      <td>1.0</td>\n",
       "      <td>0</td>\n",
       "      <td>1</td>\n",
       "      <td>N</td>\n",
       "      <td>79500</td>\n",
       "      <td>P I F</td>\n",
       "    </tr>\n",
       "    <tr>\n",
       "      <th>143842</th>\n",
       "      <td>NJ</td>\n",
       "      <td>DE</td>\n",
       "      <td>448190</td>\n",
       "      <td>2007</td>\n",
       "      <td>60</td>\n",
       "      <td>1</td>\n",
       "      <td>2.0</td>\n",
       "      <td>0</td>\n",
       "      <td>1</td>\n",
       "      <td>N</td>\n",
       "      <td>35000</td>\n",
       "      <td>P I F</td>\n",
       "    </tr>\n",
       "    <tr>\n",
       "      <th>143845</th>\n",
       "      <td>NJ</td>\n",
       "      <td>DE</td>\n",
       "      <td>448190</td>\n",
       "      <td>2007</td>\n",
       "      <td>78</td>\n",
       "      <td>1</td>\n",
       "      <td>2.0</td>\n",
       "      <td>0</td>\n",
       "      <td>1</td>\n",
       "      <td>N</td>\n",
       "      <td>39737</td>\n",
       "      <td>P I F</td>\n",
       "    </tr>\n",
       "    <tr>\n",
       "      <th>143846</th>\n",
       "      <td>CA</td>\n",
       "      <td>VA</td>\n",
       "      <td>423930</td>\n",
       "      <td>2007</td>\n",
       "      <td>58</td>\n",
       "      <td>20</td>\n",
       "      <td>1.0</td>\n",
       "      <td>0</td>\n",
       "      <td>1</td>\n",
       "      <td>N</td>\n",
       "      <td>100000</td>\n",
       "      <td>CHGOFF</td>\n",
       "    </tr>\n",
       "    <tr>\n",
       "      <th>143851</th>\n",
       "      <td>VT</td>\n",
       "      <td>VT</td>\n",
       "      <td>517910</td>\n",
       "      <td>2007</td>\n",
       "      <td>13</td>\n",
       "      <td>3</td>\n",
       "      <td>1.0</td>\n",
       "      <td>0</td>\n",
       "      <td>2</td>\n",
       "      <td>N</td>\n",
       "      <td>50000</td>\n",
       "      <td>P I F</td>\n",
       "    </tr>\n",
       "  </tbody>\n",
       "</table>\n",
       "</div>"
      ],
      "text/plain": [
       "       State BankState   NAICS  ApprovalFY  Term  NoEmp  NewExist  \\\n",
       "143841    NC        NC  453998        2007    60      6       1.0   \n",
       "143842    NJ        DE  448190        2007    60      1       2.0   \n",
       "143845    NJ        DE  448190        2007    78      1       2.0   \n",
       "143846    CA        VA  423930        2007    58     20       1.0   \n",
       "143851    VT        VT  517910        2007    13      3       1.0   \n",
       "\n",
       "        FranchiseCode  UrbanRural LowDoc  DisbursementGross MIS_Status  \n",
       "143841              0           1      N              79500      P I F  \n",
       "143842              0           1      N              35000      P I F  \n",
       "143845              0           1      N              39737      P I F  \n",
       "143846              0           1      N             100000     CHGOFF  \n",
       "143851              0           2      N              50000      P I F  "
      ]
     },
     "execution_count": 16,
     "metadata": {},
     "output_type": "execute_result"
    }
   ],
   "source": [
    "#Now we have to convert the string into integer, after we have sliced.\n",
    "\n",
    "SBAloan_df['DisbursementGross'] = SBAloan_df['DisbursementGross'].astype(np.int64)\n",
    "SBAloan_df.info()\n",
    "SBAloan_df.head()"
   ]
  },
  {
   "cell_type": "markdown",
   "id": "dd9261e5",
   "metadata": {},
   "source": [
    "### Variable: Franchise\n"
   ]
  },
  {
   "cell_type": "code",
   "execution_count": null,
   "id": "f4bede09",
   "metadata": {},
   "outputs": [],
   "source": []
  },
  {
   "cell_type": "code",
   "execution_count": 17,
   "id": "d2abc741",
   "metadata": {},
   "outputs": [
    {
     "name": "stdout",
     "output_type": "stream",
     "text": [
      "Counter({0: 125982, 1: 32990, 78760: 435, 68020: 141, 16920: 99, 25650: 86, 4516: 79, 21780: 73, 77174: 72, 51720: 70, 43579: 69, 22470: 66, 1560: 62, 1350: 60, 38605: 59, 80979: 58, 75988: 57, 79140: 53, 48400: 52, 65140: 51, 73675: 49, 24850: 49, 39598: 47, 75710: 46, 17998: 46, 61901: 46, 26871: 45, 9050: 44, 67750: 44, 84535: 42, 48000: 41, 19755: 40, 68021: 37, 21420: 37, 67735: 35, 10734: 34, 10465: 33, 70130: 32, 81612: 30, 68250: 30, 83882: 30, 407: 30, 65152: 30, 79902: 29, 34650: 27, 34845: 27, 21425: 27, 30233: 27, 61897: 26, 64211: 25, 46413: 25, 17205: 24, 73000: 23, 30215: 22, 29600: 22, 23379: 22, 55120: 22, 52875: 21, 73525: 20, 26650: 20, 49952: 20, 66643: 20, 25360: 19, 35706: 19, 83450: 19, 3512: 18, 20718: 18, 53250: 18, 31154: 18, 23000: 18, 67767: 18, 16310: 17, 81570: 17, 53650: 17, 29912: 17, 4154: 17, 31415: 16, 89769: 16, 45150: 16, 64870: 16, 10572: 16, 76282: 16, 70554: 15, 80085: 15, 80025: 15, 84025: 15, 73900: 15, 38615: 15, 44045: 15, 24027: 15, 10622: 15, 3500: 15, 10625: 15, 10611: 14, 6560: 14, 79950: 14, 17049: 14, 69149: 14, 52070: 14, 53165: 14, 50850: 14, 91280: 14, 88913: 14, 17150: 13, 9450: 13, 74789: 13, 48450: 13, 59225: 13, 39555: 13, 67759: 13, 52855: 13, 67715: 13, 36680: 13, 61627: 12, 10494: 12, 50954: 12, 41850: 12, 452: 12, 5650: 12, 38600: 12, 88355: 12, 60590: 12, 45495: 12, 14858: 12, 68150: 11, 50564: 11, 48260: 11, 69058: 11, 70405: 11, 78755: 11, 65925: 11, 56925: 11, 67417: 11, 62753: 11, 34830: 11, 52000: 10, 32125: 10, 55185: 10, 15713: 10, 67753: 10, 71456: 10, 63010: 10, 65141: 10, 2932: 10, 65150: 10, 82040: 10, 75900: 10, 63810: 10, 75385: 10, 59450: 9, 34654: 9, 50965: 9, 9118: 9, 38601: 9, 33570: 9, 45915: 9, 55519: 9, 62907: 9, 43552: 9, 71455: 9, 15980: 9, 31150: 9, 9130: 9, 17050: 9, 65160: 9, 29976: 8, 17524: 8, 52891: 8, 58723: 8, 20750: 8, 28953: 8, 66910: 8, 4452: 8, 61400: 8, 64990: 8, 78059: 8, 5725: 8, 85304: 8, 39590: 8, 41455: 8, 57000: 8, 90900: 8, 86724: 8, 42580: 8, 28960: 8, 10528: 7, 85100: 7, 36204: 7, 77875: 7, 2357: 7, 67434: 7, 89785: 7, 79152: 7, 52956: 7, 42600: 7, 27765: 7, 40665: 7, 41298: 7, 89629: 7, 47406: 7, 35605: 7, 51570: 7, 45479: 7, 34655: 7, 15710: 7, 81630: 7, 61384: 7, 10643: 7, 10686: 7, 70879: 7, 26685: 7, 47756: 7, 29009: 7, 89352: 7, 81603: 7, 43783: 7, 6829: 7, 43351: 7, 69121: 7, 13008: 7, 60751: 7, 52903: 7, 74750: 6, 54600: 6, 68179: 6, 9230: 6, 6410: 6, 68060: 6, 88875: 6, 56885: 6, 55955: 6, 75719: 6, 34850: 6, 89638: 6, 6305: 6, 43555: 6, 34459: 6, 71194: 6, 4150: 6, 72683: 6, 50140: 6, 35711: 6, 51500: 6, 20359: 6, 10605: 6, 45496: 6, 29900: 6, 55193: 6, 67748: 6, 72377: 6, 37500: 6, 17460: 6, 37460: 6, 74770: 6, 9800: 6, 900: 6, 28954: 6, 68911: 6, 24260: 6, 25668: 6, 3490: 5, 36260: 5, 38765: 5, 10484: 5, 28882: 5, 81601: 5, 68363: 5, 16033: 5, 36752: 5, 395: 5, 58616: 5, 75100: 5, 15100: 5, 19550: 5, 64976: 5, 37000: 5, 56230: 5, 20710: 5, 80377: 5, 56575: 5, 56221: 5, 16867: 5, 38510: 5, 54005: 5, 56884: 5, 26135: 5, 9651: 5, 43302: 5, 82616: 5, 72590: 5, 66320: 5, 20705: 5, 69146: 5, 10690: 5, 34900: 5, 50560: 5, 89624: 5, 71660: 5, 51721: 5, 41306: 5, 38606: 5, 70552: 5, 45912: 5, 57270: 4, 61253: 4, 70671: 4, 78950: 4, 35705: 4, 9202: 4, 84105: 4, 55990: 4, 66486: 4, 3518: 4, 6140: 4, 17646: 4, 25656: 4, 70670: 4, 38614: 4, 63345: 4, 45505: 4, 89630: 4, 49200: 4, 65250: 4, 72495: 4, 37481: 4, 52898: 4, 39234: 4, 51560: 4, 81623: 4, 51805: 4, 39238: 4, 69134: 4, 8023: 4, 9708: 4, 15996: 4, 76955: 4, 64853: 4, 57601: 4, 82500: 4, 33125: 4, 39237: 4, 50520: 4, 47400: 4, 52707: 4, 75000: 4, 91168: 4, 58686: 4, 17230: 4, 77027: 4, 62752: 4, 18160: 4, 10666: 4, 60753: 4, 73523: 4, 42596: 4, 15697: 4, 32418: 4, 10200: 4, 39700: 4, 50523: 4, 16034: 4, 90709: 4, 29730: 4, 79730: 4, 56824: 4, 69805: 4, 10685: 4, 78237: 4, 64857: 4, 68864: 4, 8045: 4, 10574: 4, 89641: 4, 35300: 4, 2360: 4, 21037: 4, 58795: 4, 75460: 4, 81550: 4, 24459: 4, 46336: 4, 10691: 3, 29582: 3, 45500: 3, 37474: 3, 50525: 3, 81800: 3, 54100: 3, 45455: 3, 50860: 3, 52018: 3, 17587: 3, 84060: 3, 37469: 3, 33470: 3, 44053: 3, 24001: 3, 25438: 3, 74820: 3, 9234: 3, 15922: 3, 88660: 3, 24030: 3, 86690: 3, 73793: 3, 36355: 3, 64900: 3, 46401: 3, 46345: 3, 70008: 3, 44725: 3, 33170: 3, 77890: 3, 61299: 3, 29523: 3, 70129: 3, 62343: 3, 73516: 3, 20550: 3, 65845: 3, 16280: 3, 23110: 3, 4160: 3, 75982: 3, 10703: 3, 416: 3, 23115: 3, 10776: 3, 80360: 3, 72990: 3, 80374: 3, 80250: 3, 21025: 3, 21400: 3, 77725: 3, 67219: 3, 35500: 3, 20728: 3, 47735: 3, 39594: 3, 8015: 3, 32210: 3, 58615: 3, 58910: 3, 17581: 3, 80850: 3, 69147: 3, 30208: 3, 52300: 3, 10604: 3, 30505: 3, 10652: 3, 47426: 3, 17215: 3, 50040: 3, 77885: 3, 78330: 3, 10502: 3, 52900: 3, 64765: 3, 65953: 3, 86488: 3, 10556: 3, 80604: 3, 24654: 3, 52007: 3, 50530: 3, 26870: 3, 74000: 3, 485: 3, 9802: 3, 22475: 3, 18510: 3, 70128: 3, 55202: 3, 71673: 3, 32046: 3, 44350: 3, 16868: 3, 38755: 3, 64886: 3, 60752: 3, 11245: 3, 10581: 3, 81616: 3, 28443: 3, 16455: 3, 16254: 3, 73003: 3, 72215: 3, 61629: 3, 66160: 2, 18126: 2, 800: 2, 81606: 2, 74782: 2, 79301: 2, 64200: 2, 53680: 2, 31300: 2, 90708: 2, 78325: 2, 55430: 2, 41433: 2, 21165: 2, 71010: 2, 70556: 2, 10570: 2, 76188: 2, 89639: 2, 90815: 2, 81611: 2, 24745: 2, 8002: 2, 10682: 2, 55815: 2, 28228: 2, 90715: 2, 36560: 2, 61389: 2, 32130: 2, 71669: 2, 40659: 2, 90700: 2, 84725: 2, 66694: 2, 73086: 2, 16275: 2, 84323: 2, 64978: 2, 4074: 2, 53316: 2, 78366: 2, 74410: 2, 66615: 2, 60804: 2, 35624: 2, 27400: 2, 17584: 2, 65145: 2, 64212: 2, 2100: 2, 44729: 2, 16905: 2, 43587: 2, 61906: 2, 49975: 2, 46322: 2, 414: 2, 23122: 2, 26879: 2, 79169: 2, 470: 2, 26560: 2, 43788: 2, 45100: 2, 15823: 2, 24039: 2, 10670: 2, 84273: 2, 30210: 2, 81965: 2, 52240: 2, 40650: 2, 64950: 2, 33194: 2, 36758: 2, 68880: 2, 50655: 2, 73748: 2, 22368: 2, 10854: 2, 20725: 2, 52004: 2, 23997: 2, 20100: 2, 29585: 2, 68905: 2, 51702: 2, 52413: 2, 21735: 2, 91253: 2, 38240: 2, 66450: 2, 78384: 2, 17985: 2, 419: 2, 50581: 2, 950: 2, 10647: 2, 26556: 2, 89640: 2, 10737: 2, 83877: 2, 420: 2, 64609: 2, 37060: 2, 20960: 2, 90956: 2, 41300: 2, 67746: 2, 16916: 2, 35626: 2, 72515: 2, 10481: 2, 89208: 2, 35307: 2, 21428: 2, 10794: 2, 10489: 2, 89655: 2, 89648: 2, 44062: 2, 69560: 2, 55212: 2, 3560: 2, 29524: 2, 50930: 2, 8247: 2, 74305: 2, 26575: 2, 84522: 2, 61895: 2, 18000: 2, 64883: 2, 71937: 2, 32075: 2, 22678: 2, 26553: 2, 89649: 2, 19661: 2, 1497: 2, 66641: 2, 40462: 2, 47210: 2, 28900: 2, 54300: 2, 88312: 2, 56920: 2, 79907: 2, 10719: 2, 80300: 2, 21781: 2, 66350: 2, 89775: 2, 39235: 2, 28350: 2, 80159: 2, 91443: 2, 10529: 2, 76256: 2, 22690: 2, 52419: 2, 75917: 2, 79720: 2, 9806: 2, 48032: 2, 91423: 2, 84088: 2, 37439: 2, 46049: 2, 33187: 2, 71696: 2, 46815: 2, 91153: 2, 24420: 2, 42530: 2, 10474: 2, 86738: 2, 46057: 2, 12614: 2, 42610: 2, 35640: 2, 6407: 2, 61497: 2, 53714: 2, 81595: 2, 14292: 2, 29888: 2, 63897: 2, 64768: 2, 20108: 2, 12481: 2, 13680: 2, 68219: 1, 53660: 1, 85353: 1, 62751: 1, 44065: 1, 20484: 1, 31225: 1, 67255: 1, 73795: 1, 43571: 1, 76418: 1, 31227: 1, 34061: 1, 28233: 1, 48606: 1, 64975: 1, 62950: 1, 67280: 1, 63187: 1, 30811: 1, 40666: 1, 89652: 1, 67742: 1, 78340: 1, 78337: 1, 10729: 1, 35306: 1, 44600: 1, 18925: 1, 38750: 1, 8054: 1, 35323: 1, 52245: 1, 66200: 1, 67966: 1, 81614: 1, 60026: 1, 25417: 1, 84300: 1, 43584: 1, 30226: 1, 66190: 1, 10656: 1, 3708: 1, 44033: 1, 49753: 1, 76185: 1, 84255: 1, 24845: 1, 63863: 1, 17265: 1, 10648: 1, 47996: 1, 42639: 1, 44009: 1, 6559: 1, 84339: 1, 84094: 1, 45955: 1, 91350: 1, 57285: 1, 17657: 1, 9246: 1, 9228: 1, 87344: 1, 16038: 1, 61890: 1, 28232: 1, 81621: 1, 46061: 1, 10560: 1, 20944: 1, 35625: 1, 68876: 1, 64657: 1, 50845: 1, 40718: 1, 33165: 1, 60235: 1, 69543: 1, 88404: 1, 53657: 1, 44072: 1, 80190: 1, 89634: 1, 27760: 1, 10692: 1, 8046: 1, 38209: 1, 36564: 1, 81555: 1, 10626: 1, 21870: 1, 87587: 1, 63150: 1, 49272: 1, 46199: 1, 19662: 1, 19118: 1, 10603: 1, 80384: 1, 14528: 1, 75355: 1, 61896: 1, 4251: 1, 86728: 1, 10720: 1, 62360: 1, 9227: 1, 32071: 1, 36002: 1, 24700: 1, 6125: 1, 85505: 1, 44005: 1, 2929: 1, 10482: 1, 65100: 1, 68030: 1, 10550: 1, 17900: 1, 90875: 1, 24003: 1, 22684: 1, 26145: 1, 71169: 1, 54010: 1, 74804: 1, 56016: 1, 10598: 1, 84260: 1, 42000: 1, 72592: 1, 944: 1, 34838: 1, 66345: 1, 24957: 1, 32053: 1, 29237: 1, 55650: 1, 79897: 1, 35710: 1, 68255: 1, 83347: 1, 9233: 1, 46720: 1, 29578: 1, 80030: 1, 8024: 1, 62756: 1, 66347: 1, 9147: 1, 31243: 1, 43630: 1, 68362: 1, 74760: 1, 42478: 1, 43761: 1, 53651: 1, 78758: 1, 24706: 1, 1495: 1, 8010: 1, 44052: 1, 62150: 1, 8656: 1, 6133: 1, 8044: 1, 81790: 1, 29719: 1, 70549: 1, 46550: 1, 18927: 1, 62760: 1, 78060: 1, 68147: 1, 41454: 1, 43785: 1, 68870: 1, 62903: 1, 54390: 1, 35713: 1, 46455: 1, 24959: 1, 30204: 1, 34849: 1, 64882: 1, 9801: 1, 10741: 1, 46557: 1, 71684: 1, 75050: 1, 59560: 1, 62450: 1, 50909: 1, 81961: 1, 64885: 1, 29310: 1, 43750: 1, 29980: 1, 66660: 1, 84340: 1, 44078: 1, 41420: 1, 82139: 1, 84495: 1, 33210: 1, 4072: 1, 59550: 1, 70757: 1, 60234: 1, 66900: 1, 69110: 1, 35634: 1, 77899: 1, 46414: 1, 42800: 1, 10579: 1, 42525: 1, 22677: 1, 41310: 1, 30423: 1, 81906: 1, 8653: 1, 50949: 1, 22660: 1, 2367: 1, 71947: 1, 70760: 1, 56836: 1, 80989: 1, 85300: 1, 48815: 1, 90800: 1, 34890: 1, 79305: 1, 68180: 1, 20122: 1, 37490: 1, 76279: 1, 58724: 1, 2914: 1, 43568: 1, 29125: 1, 10483: 1, 72380: 1, 88230: 1, 52414: 1, 34839: 1, 10615: 1, 10521: 1, 2918: 1, 426: 1, 66436: 1, 17669: 1, 50078: 1, 22676: 1, 51567: 1, 17156: 1, 63850: 1, 39245: 1, 6620: 1, 37066: 1, 38500: 1, 77380: 1, 89636: 1, 1357: 1, 41307: 1, 28555: 1, 10697: 1, 22680: 1, 71658: 1, 59565: 1, 84324: 1, 61898: 1, 79924: 1, 65320: 1, 35619: 1, 76285: 1, 10535: 1, 24414: 1, 72599: 1, 38560: 1, 82360: 1, 84069: 1, 43347: 1, 6170: 1, 46415: 1, 18115: 1, 91424: 1, 6131: 1, 20966: 1, 4250: 1, 20780: 1, 78230: 1, 28879: 1, 53286: 1, 91450: 1, 63894: 1, 24658: 1, 43700: 1, 17219: 1, 43200: 1, 56890: 1, 86731: 1, 87075: 1, 32136: 1, 82150: 1, 10596: 1, 7998: 1, 61391: 1, 84077: 1, 43578: 1, 41010: 1, 8048: 1, 36995: 1, 62455: 1, 4500: 1, 15602: 1, 61401: 1, 85360: 1, 25404: 1, 25562: 1, 52012: 1, 47520: 1, 3892: 1, 14179: 1, 19655: 1, 59780: 1, 36005: 1, 51716: 1, 91446: 1, 91162: 1, 64985: 1, 91110: 1, 44066: 1, 35627: 1, 9650: 1, 89645: 1, 404: 1, 79220: 1, 78120: 1, 77170: 1, 835: 1, 85322: 1, 63350: 1, 82141: 1, 76930: 1, 74802: 1, 72690: 1, 10676: 1, 20551: 1, 14424: 1, 91107: 1, 24421: 1, 68170: 1, 34550: 1, 28124: 1, 34513: 1, 85029: 1, 77037: 1, 51725: 1, 64205: 1, 84059: 1, 17627: 1, 49830: 1, 91181: 1, 33750: 1, 76959: 1, 81554: 1, 67253: 1, 58713: 1, 79105: 1, 69998: 1, 3488: 1, 55214: 1, 40476: 1, 44057: 1, 81617: 1, 82228: 1, 35703: 1, 84523: 1, 64981: 1, 11397: 1, 11002: 1, 81591: 1, 41400: 1, 64589: 1, 17745: 1, 4750: 1, 30227: 1, 46250: 1, 33166: 1, 27304: 1, 16257: 1, 85325: 1, 6561: 1, 64656: 1, 32067: 1, 89788: 1, 67350: 1, 3898: 1, 61275: 1, 22399: 1, 84490: 1, 80603: 1, 56840: 1, 30200: 1, 24650: 1, 70649: 1, 77746: 1, 9243: 1, 60232: 1, 55524: 1, 7969: 1, 55652: 1, 70535: 1, 68361: 1, 8200: 1, 60800: 1, 42479: 1, 10704: 1, 6800: 1, 39553: 1, 10542: 1, 33509: 1, 84321: 1, 39251: 1, 17920: 1, 81797: 1, 28909: 1, 32299: 1, 50025: 1, 10732: 1, 89657: 1, 65149: 1, 50535: 1, 30828: 1, 35722: 1, 85357: 1, 82144: 1, 71452: 1, 27301: 1, 39603: 1, 67283: 1, 78754: 1, 4492: 1, 10514: 1, 10156: 1, 12072: 1, 12278: 1, 14134: 1, 11023: 1, 12058: 1, 11965: 1, 10921: 1, 12645: 1, 11150: 1, 10245: 1, 13520: 1, 14862: 1, 14839: 1, 11299: 1, 10591: 1, 11195: 1, 14266: 1, 14408: 1, 10764: 1, 10449: 1, 11836: 1, 13313: 1})\n"
     ]
    }
   ],
   "source": [
    "#As the two outcomes 0 & 1 represent the same, we want to add them together and count them.\n",
    "#First importing Counter Counter\n",
    "from collections import Counter\n",
    "\n",
    "variable_counts = Counter(SBAloan_df['FranchiseCode'])\n",
    "print(variable_counts)\n"
   ]
  },
  {
   "cell_type": "code",
   "execution_count": 18,
   "id": "af88583e",
   "metadata": {},
   "outputs": [
    {
     "name": "stdout",
     "output_type": "stream",
     "text": [
      "Counter({0: 158972, 1: 6667})\n"
     ]
    }
   ],
   "source": [
    "# Converting attributes to binary 0 or 1s.\n",
    "# We set the value to = 0, if the attribute is less than 2, and = 1 if attribute is more than 2\n",
    "\n",
    "SBAloan_df['FranchiseCode'] = SBAloan_df['FranchiseCode'].where(SBAloan_df['FranchiseCode'] > 2, 0)\n",
    "SBAloan_df['FranchiseCode'] = SBAloan_df['FranchiseCode'].where(SBAloan_df['FranchiseCode'] < 2, 1)\n",
    "\n",
    "variable_counts = Counter(SBAloan_df['FranchiseCode'])\n",
    "print(variable_counts)\n",
    "\n",
    "# If binary = 1: Then it's a franchise = 0: It's not a franchise"
   ]
  },
  {
   "cell_type": "markdown",
   "id": "3070c16c",
   "metadata": {},
   "source": [
    "### Variable: LowDoc\n"
   ]
  },
  {
   "cell_type": "code",
   "execution_count": 19,
   "id": "4d170d9a",
   "metadata": {},
   "outputs": [
    {
     "name": "stdout",
     "output_type": "stream",
     "text": [
      "Counter({'N': 164447, 'S': 602, 'A': 495, 'R': 73, 'C': 22})\n"
     ]
    }
   ],
   "source": [
    "#LowDoc Y = Yes N = no.\n",
    "#Yes = One page application under $150.000\n",
    "#No = More than one page application over $150.000\n",
    "\n",
    "#We need to see the total value, by counting and printing them\n",
    "\n",
    "variable_counts = Counter(SBAloan_df['LowDoc'])\n",
    "print(variable_counts)\n",
    "\n",
    "#A, C, R S are data entry errors which needs to be deleted from the dataset"
   ]
  },
  {
   "cell_type": "code",
   "execution_count": 20,
   "id": "e6e0f1eb",
   "metadata": {},
   "outputs": [
    {
     "name": "stdout",
     "output_type": "stream",
     "text": [
      "Counter({'N': 164447})\n"
     ]
    }
   ],
   "source": [
    "#Deleting by dropping the columns\n",
    "SBAloan_df = SBAloan_df[SBAloan_df['LowDoc'] != 'C']\n",
    "SBAloan_df = SBAloan_df[SBAloan_df['LowDoc'] != 'R']\n",
    "SBAloan_df = SBAloan_df[SBAloan_df['LowDoc'] != 'A']\n",
    "SBAloan_df = SBAloan_df[SBAloan_df['LowDoc'] != 'S']\n",
    "\n",
    "\n",
    "variable_counts = Counter(SBAloan_df['LowDoc'])\n",
    "print(variable_counts)"
   ]
  },
  {
   "cell_type": "code",
   "execution_count": 21,
   "id": "41a6517a",
   "metadata": {},
   "outputs": [
    {
     "name": "stdout",
     "output_type": "stream",
     "text": [
      "Counter({0: 164447})\n",
      "<class 'pandas.core.frame.DataFrame'>\n",
      "Int64Index: 164447 entries, 143841 to 896097\n",
      "Data columns (total 12 columns):\n",
      " #   Column             Non-Null Count   Dtype  \n",
      "---  ------             --------------   -----  \n",
      " 0   State              164447 non-null  object \n",
      " 1   BankState          164447 non-null  object \n",
      " 2   NAICS              164447 non-null  int64  \n",
      " 3   ApprovalFY         164447 non-null  int64  \n",
      " 4   Term               164447 non-null  int64  \n",
      " 5   NoEmp              164447 non-null  int64  \n",
      " 6   NewExist           164447 non-null  float64\n",
      " 7   FranchiseCode      164447 non-null  int64  \n",
      " 8   UrbanRural         164447 non-null  int64  \n",
      " 9   LowDoc             164447 non-null  int64  \n",
      " 10  DisbursementGross  164447 non-null  int64  \n",
      " 11  MIS_Status         164447 non-null  object \n",
      "dtypes: float64(1), int64(8), object(3)\n",
      "memory usage: 16.3+ MB\n"
     ]
    }
   ],
   "source": [
    "#As we can see in this processed dataset, between 2007 - 2015, there are only \n",
    "#- Loans which = No, meaning: loan < $150.000 and therefore not a OnePage application\n",
    "\n",
    "#We now have to convert the value to binary, as done with Franchise\n",
    "SBAloan_df['LowDoc'] = SBAloan_df['LowDoc'].where(SBAloan_df['LowDoc'] != 'N', 0)\n",
    "SBAloan_df['LowDoc'] = SBAloan_df['LowDoc'].where(SBAloan_df['LowDoc'] != 'Y', 1)\n",
    "\n",
    "variable_counts = Counter(SBAloan_df['LowDoc'])\n",
    "print(variable_counts)\n",
    "\n",
    "#We now have to change the Variable type (dtype) from an object to integer, since converting to binary\n",
    "SBAloan_df[\"LowDoc\"] = pd.to_numeric(SBAloan_df[\"LowDoc\"], errors='coerce')\n",
    "SBAloan_df[\"LowDoc\"] = SBAloan_df[\"LowDoc\"].astype(np.int64)\n",
    "\n",
    "#Checking that it has changed\n",
    "SBAloan_df.info()"
   ]
  },
  {
   "cell_type": "markdown",
   "id": "b91bd6bd",
   "metadata": {},
   "source": [
    "### Variable: NewExist"
   ]
  },
  {
   "cell_type": "code",
   "execution_count": 22,
   "id": "ead46d8d",
   "metadata": {},
   "outputs": [
    {
     "name": "stdout",
     "output_type": "stream",
     "text": [
      "Counter({1.0: 112565, 2.0: 51872, 0.0: 10})\n"
     ]
    }
   ],
   "source": [
    "#NewExist: 1 = Existing business 2 = New business\n",
    "#We start by counting NewExisting, to see how many existing and new business occures\n",
    "\n",
    "variable_counts = Counter(SBAloan_df['NewExist'])\n",
    "print(variable_counts)\n",
    "\n",
    "#We can see that the data also includes 0.0, which is data entry error."
   ]
  },
  {
   "cell_type": "code",
   "execution_count": 37,
   "id": "af53daeb",
   "metadata": {},
   "outputs": [
    {
     "name": "stdout",
     "output_type": "stream",
     "text": [
      "Counter({1: 112360, 2: 51782})\n"
     ]
    }
   ],
   "source": [
    "#Removing data entry error, as done with LowDoc\n",
    "SBAloan_df = SBAloan_df[SBAloan_df['NewExist'] != 0]\n",
    "print(Counter(SBAloan_df['NewExist']))"
   ]
  },
  {
   "cell_type": "code",
   "execution_count": 24,
   "id": "cb14e4d4",
   "metadata": {},
   "outputs": [
    {
     "name": "stdout",
     "output_type": "stream",
     "text": [
      "<class 'pandas.core.frame.DataFrame'>\n",
      "Int64Index: 164437 entries, 143841 to 896097\n",
      "Data columns (total 12 columns):\n",
      " #   Column             Non-Null Count   Dtype  \n",
      "---  ------             --------------   -----  \n",
      " 0   State              164437 non-null  object \n",
      " 1   BankState          164437 non-null  object \n",
      " 2   NAICS              164437 non-null  int64  \n",
      " 3   ApprovalFY         164437 non-null  int64  \n",
      " 4   Term               164437 non-null  int64  \n",
      " 5   NoEmp              164437 non-null  int64  \n",
      " 6   NewExist           164437 non-null  float64\n",
      " 7   FranchiseCode      164437 non-null  int64  \n",
      " 8   UrbanRural         164437 non-null  int64  \n",
      " 9   LowDoc             164437 non-null  int64  \n",
      " 10  DisbursementGross  164437 non-null  int64  \n",
      " 11  MIS_Status         164437 non-null  object \n",
      "dtypes: float64(1), int64(8), object(3)\n",
      "memory usage: 16.3+ MB\n"
     ]
    }
   ],
   "source": [
    "#Checking variable type (Dtype)\n",
    "SBAloan_df.info()"
   ]
  },
  {
   "cell_type": "code",
   "execution_count": 25,
   "id": "f64079e0",
   "metadata": {},
   "outputs": [
    {
     "name": "stdout",
     "output_type": "stream",
     "text": [
      "<class 'pandas.core.frame.DataFrame'>\n",
      "Int64Index: 164437 entries, 143841 to 896097\n",
      "Data columns (total 12 columns):\n",
      " #   Column             Non-Null Count   Dtype \n",
      "---  ------             --------------   ----- \n",
      " 0   State              164437 non-null  object\n",
      " 1   BankState          164437 non-null  object\n",
      " 2   NAICS              164437 non-null  int64 \n",
      " 3   ApprovalFY         164437 non-null  int64 \n",
      " 4   Term               164437 non-null  int64 \n",
      " 5   NoEmp              164437 non-null  int64 \n",
      " 6   NewExist           164437 non-null  int64 \n",
      " 7   FranchiseCode      164437 non-null  int64 \n",
      " 8   UrbanRural         164437 non-null  int64 \n",
      " 9   LowDoc             164437 non-null  int64 \n",
      " 10  DisbursementGross  164437 non-null  int64 \n",
      " 11  MIS_Status         164437 non-null  object\n",
      "dtypes: int64(9), object(3)\n",
      "memory usage: 16.3+ MB\n"
     ]
    }
   ],
   "source": [
    "#Changing dtype on variable NewExist to int64\n",
    "\n",
    "SBAloan_df[\"NewExist\"] = pd.to_numeric(SBAloan_df[\"NewExist\"], errors='coerce')\n",
    "SBAloan_df[\"NewExist\"] = SBAloan_df[\"NewExist\"].astype(np.int64)\n",
    "\n",
    "SBAloan_df.info()\n"
   ]
  },
  {
   "cell_type": "markdown",
   "id": "4b1246bc",
   "metadata": {},
   "source": [
    "### Variable: UrbanRural"
   ]
  },
  {
   "cell_type": "code",
   "execution_count": 26,
   "id": "ffcd2a81",
   "metadata": {},
   "outputs": [
    {
     "name": "stdout",
     "output_type": "stream",
     "text": [
      "Counter({1: 133224, 2: 30918, 0: 295})\n"
     ]
    }
   ],
   "source": [
    "#We start by counting UrbanRural, to see how many consists of Urban and Rural\n",
    "\n",
    "variable_counts = Counter(SBAloan_df['UrbanRural'])\n",
    "print(variable_counts)\n"
   ]
  },
  {
   "cell_type": "code",
   "execution_count": 27,
   "id": "5a97a5f7",
   "metadata": {},
   "outputs": [
    {
     "name": "stdout",
     "output_type": "stream",
     "text": [
      "Counter({1: 133224, 2: 30918})\n"
     ]
    }
   ],
   "source": [
    "#UrbanRural: 1 = Urban 2 = Rural 0 = Undefined\n",
    "#We therefore drop the undefined columm\n",
    "\n",
    "SBAloan_df = SBAloan_df[SBAloan_df['UrbanRural'] != 0]\n",
    "\n",
    "variable_counts = Counter(SBAloan_df['UrbanRural'])\n",
    "print(variable_counts)"
   ]
  },
  {
   "cell_type": "markdown",
   "id": "28d8220e",
   "metadata": {},
   "source": [
    "### Variable: MIS_Status"
   ]
  },
  {
   "cell_type": "code",
   "execution_count": 28,
   "id": "0ed8de5b",
   "metadata": {},
   "outputs": [
    {
     "name": "stdout",
     "output_type": "stream",
     "text": [
      "Counter({'P I F': 111060, 'CHGOFF': 53082})\n"
     ]
    }
   ],
   "source": [
    "#MIS_STATUS: Indicates the status of the loan\n",
    "#PIF = Paid in full, CHGOFF = defaulted\n",
    "#We start by counting MIS_STATUS to see, how many has paid in full or defaulted.\n",
    "\n",
    "variable_counts = Counter(SBAloan_df['MIS_Status'])\n",
    "print(variable_counts)"
   ]
  },
  {
   "cell_type": "code",
   "execution_count": 29,
   "id": "91985def",
   "metadata": {},
   "outputs": [
    {
     "name": "stdout",
     "output_type": "stream",
     "text": [
      "143841       PIF\n",
      "143842       PIF\n",
      "143845       PIF\n",
      "143846    CHGOFF\n",
      "143851       PIF\n",
      "           ...  \n",
      "673911       PIF\n",
      "674448       PIF\n",
      "674606       PIF\n",
      "674907       PIF\n",
      "675230       PIF\n",
      "Name: MIS_Status, Length: 164142, dtype: object\n"
     ]
    }
   ],
   "source": [
    "#Removing space for P I F\n",
    "SBAloan_df['MIS_Status'] = SBAloan_df['MIS_Status'].str.replace(' ','', regex=True)\n",
    "print(SBAloan_df['MIS_Status'])\n",
    "\n"
   ]
  },
  {
   "cell_type": "code",
   "execution_count": 30,
   "id": "750ec042",
   "metadata": {},
   "outputs": [
    {
     "name": "stdout",
     "output_type": "stream",
     "text": [
      "Counter({0: 111060, 1: 53082})\n"
     ]
    }
   ],
   "source": [
    "# Now converting PIF and CHGOFF To binary.\n",
    "# We set the value to = 0, if attribute is PIF, and = 1 if attribute is defaulted\n",
    "\n",
    "SBAloan_df['MIS_Status'] = SBAloan_df['MIS_Status'].where(SBAloan_df['MIS_Status'] != 'PIF', 0)\n",
    "SBAloan_df['MIS_Status'] = SBAloan_df['MIS_Status'].where(SBAloan_df['MIS_Status'] != 'CHGOFF', 1)\n",
    "\n",
    "variable_counts = Counter(SBAloan_df['MIS_Status'])\n",
    "print(variable_counts)"
   ]
  },
  {
   "cell_type": "code",
   "execution_count": 31,
   "id": "5b5312be",
   "metadata": {
    "scrolled": true
   },
   "outputs": [
    {
     "name": "stdout",
     "output_type": "stream",
     "text": [
      "<class 'pandas.core.frame.DataFrame'>\n",
      "Int64Index: 164142 entries, 143841 to 675230\n",
      "Data columns (total 12 columns):\n",
      " #   Column             Non-Null Count   Dtype \n",
      "---  ------             --------------   ----- \n",
      " 0   State              164142 non-null  object\n",
      " 1   BankState          164142 non-null  object\n",
      " 2   NAICS              164142 non-null  int64 \n",
      " 3   ApprovalFY         164142 non-null  int64 \n",
      " 4   Term               164142 non-null  int64 \n",
      " 5   NoEmp              164142 non-null  int64 \n",
      " 6   NewExist           164142 non-null  int64 \n",
      " 7   FranchiseCode      164142 non-null  int64 \n",
      " 8   UrbanRural         164142 non-null  int64 \n",
      " 9   LowDoc             164142 non-null  int64 \n",
      " 10  DisbursementGross  164142 non-null  int64 \n",
      " 11  MIS_Status         164142 non-null  int64 \n",
      "dtypes: int64(10), object(2)\n",
      "memory usage: 16.3+ MB\n"
     ]
    }
   ],
   "source": [
    "#Now converting variable type (dtype)\n",
    "SBAloan_df[\"MIS_Status\"] = pd.to_numeric(SBAloan_df[\"MIS_Status\"], errors='coerce')\n",
    "SBAloan_df[\"MIS_Status\"] = SBAloan_df[\"MIS_Status\"].astype(np.int64)\n",
    "\n",
    "#checking\n",
    "SBAloan_df.info()"
   ]
  },
  {
   "cell_type": "markdown",
   "id": "3eb65c56",
   "metadata": {},
   "source": [
    "### Variable: BankState"
   ]
  },
  {
   "cell_type": "code",
   "execution_count": 32,
   "id": "89bf872b",
   "metadata": {},
   "outputs": [
    {
     "name": "stdout",
     "output_type": "stream",
     "text": [
      "Counter({'IL': 21919, 'CA': 21889, 'OH': 17130, 'NC': 14217, 'SD': 9465, 'NY': 8172, 'VA': 6253, 'DE': 6156, 'UT': 6005, 'TX': 4099, 'RI': 3720, 'WI': 3427, 'MN': 3144, 'MO': 2554, 'AL': 2531, 'OR': 2228, 'MA': 2181, 'PA': 2088, 'GA': 1907, 'FL': 1454, 'WA': 1440, 'IN': 1438, 'IA': 1319, 'CT': 1310, 'MI': 1202, 'AR': 1162, 'MS': 1083, 'CO': 1070, 'KS': 1057, 'NJ': 1049, 'OK': 1007, 'MT': 994, 'NE': 964, 'NH': 746, 'ND': 744, 'ID': 723, 'KY': 685, 'ME': 658, 'HI': 628, 'NM': 586, 'LA': 584, 'TN': 509, 'AZ': 509, 'NV': 494, 'VT': 464, 'MD': 393, 'SC': 327, 'WY': 197, 'WV': 118, 'AK': 85, 'DC': 56, 'PR': 1, 'AN': 1})\n"
     ]
    }
   ],
   "source": [
    "#We start by counting BankState to see instances of States that occures\n",
    "\n",
    "variable_counts = Counter(SBAloan_df['BankState'])\n",
    "print(variable_counts)\n"
   ]
  },
  {
   "cell_type": "code",
   "execution_count": 51,
   "id": "84d7f4ae",
   "metadata": {},
   "outputs": [
    {
     "name": "stdout",
     "output_type": "stream",
     "text": [
      "Counter({17: 21919, 12: 21889, 8: 17130, 25: 14217, 30: 9465, 26: 8172, 29: 6253, 53: 6156, 16: 6005, 40: 4099, 31: 3720, 39: 3427, 22: 3144, 21: 2554, 13: 2537, 48: 2531, 5: 2228, 1: 2181, 24: 2088, 38: 1907, 18: 1440, 33: 1438, 6: 1319, 20: 1310, 36: 1202, 7: 1162, 52: 1070, 45: 1057, 37: 1049, 10: 1007, 50: 994, 34: 964, 51: 746, 14: 744, 4: 723, 28: 685, 19: 658, 49: 628, 9: 586, 42: 584, 15: 509, 43: 509, 47: 494, 2: 464, 3: 393, 23: 327, 41: 197, 35: 118, 44: 85, 11: 56, 32: 1, 46: 1})\n"
     ]
    }
   ],
   "source": [
    "state_initials = ['IL', 'CA', 'OH', 'NC', 'SD', 'NY', 'VA', 'DE', 'UT', 'TX', 'RI', 'WI', 'MN', 'MO', 'AL', 'OR', 'MA', 'PA', 'GA', 'FL', 'WA', 'IN', 'IA', 'CT', 'MI', 'AR', 'MS', 'CO', 'KS', 'NJ', 'OK', 'MT', 'NE', 'NH', 'ND', 'ID', 'KY', 'ME', 'HI', 'NM', 'LA', 'TN', 'AZ', 'NV', 'VT', 'MD', 'SC', 'WY', 'WV', 'AK', 'DC', 'PR', 'AN']\n",
    "\n",
    "# Replace each state with numeric value\n",
    "BankState_mapping = {bankstate: i + 1 for i, bankstate in enumerate(state_initials)}\n",
    "\n",
    "SBAloan_df['BankState'] = SBAloan_df['BankState'].replace(BankState_mapping)\n",
    "\n",
    "variable_counts = Counter(SBAloan_df['BankState'])\n",
    "print(variable_counts)\n"
   ]
  },
  {
   "cell_type": "code",
   "execution_count": 45,
   "id": "a1097f5f",
   "metadata": {},
   "outputs": [
    {
     "name": "stdout",
     "output_type": "stream",
     "text": [
      "<class 'pandas.core.frame.DataFrame'>\n",
      "Int64Index: 164142 entries, 143841 to 675230\n",
      "Data columns (total 12 columns):\n",
      " #   Column             Non-Null Count   Dtype \n",
      "---  ------             --------------   ----- \n",
      " 0   State              164142 non-null  object\n",
      " 1   BankState          164142 non-null  object\n",
      " 2   NAICS              164142 non-null  int64 \n",
      " 3   ApprovalFY         164142 non-null  int64 \n",
      " 4   Term               164142 non-null  int64 \n",
      " 5   NoEmp              164142 non-null  int64 \n",
      " 6   NewExist           164142 non-null  int64 \n",
      " 7   FranchiseCode      164142 non-null  int64 \n",
      " 8   UrbanRural         164142 non-null  int64 \n",
      " 9   LowDoc             164142 non-null  int64 \n",
      " 10  DisbursementGross  164142 non-null  int64 \n",
      " 11  MIS_Status         164142 non-null  int64 \n",
      "dtypes: int64(10), object(2)\n",
      "memory usage: 16.3+ MB\n"
     ]
    }
   ],
   "source": [
    "#Checking variable type (dtype)\n",
    "\n",
    "SBAloan_df.info()"
   ]
  },
  {
   "cell_type": "code",
   "execution_count": 48,
   "id": "a460b1c5",
   "metadata": {},
   "outputs": [
    {
     "name": "stdout",
     "output_type": "stream",
     "text": [
      "<class 'pandas.core.frame.DataFrame'>\n",
      "Int64Index: 164142 entries, 143841 to 675230\n",
      "Data columns (total 12 columns):\n",
      " #   Column             Non-Null Count   Dtype \n",
      "---  ------             --------------   ----- \n",
      " 0   State              164142 non-null  object\n",
      " 1   BankState          164142 non-null  Int64 \n",
      " 2   NAICS              164142 non-null  int64 \n",
      " 3   ApprovalFY         164142 non-null  int64 \n",
      " 4   Term               164142 non-null  int64 \n",
      " 5   NoEmp              164142 non-null  int64 \n",
      " 6   NewExist           164142 non-null  int64 \n",
      " 7   FranchiseCode      164142 non-null  int64 \n",
      " 8   UrbanRural         164142 non-null  int64 \n",
      " 9   LowDoc             164142 non-null  int64 \n",
      " 10  DisbursementGross  164142 non-null  int64 \n",
      " 11  MIS_Status         164142 non-null  int64 \n",
      "dtypes: Int64(1), int64(10), object(1)\n",
      "memory usage: 16.4+ MB\n"
     ]
    }
   ],
   "source": [
    "#Now converting variable type (dtype)\n",
    "SBAloan_df['BankState'] = SBAloan_df['BankState'].astype('Int64')\n",
    "\n",
    "#checking\n",
    "SBAloan_df.info()"
   ]
  },
  {
   "cell_type": "markdown",
   "id": "7b8afe80",
   "metadata": {},
   "source": [
    "### Variable: State"
   ]
  },
  {
   "cell_type": "code",
   "execution_count": 49,
   "id": "603a40ba",
   "metadata": {},
   "outputs": [
    {
     "name": "stdout",
     "output_type": "stream",
     "text": [
      "Counter({'CA': 22394, 'NY': 11893, 'TX': 11630, 'FL': 8294, 'OH': 7137, 'IL': 7039, 'UT': 5906, 'MN': 5003, 'MI': 4880, 'PA': 4608, 'WI': 4312, 'WA': 4188, 'CO': 4171, 'NJ': 4151, 'GA': 4080, 'AZ': 3866, 'MA': 3754, 'MO': 3349, 'IN': 3312, 'NC': 2886, 'VA': 2583, 'OR': 2527, 'MD': 2290, 'ID': 2006, 'TN': 1658, 'KY': 1615, 'IA': 1612, 'KS': 1603, 'LA': 1597, 'CT': 1576, 'OK': 1565, 'MS': 1509, 'NV': 1487, 'NH': 1321, 'AL': 1141, 'NE': 1140, 'MT': 1128, 'ME': 1075, 'SC': 932, 'HI': 827, 'RI': 813, 'AR': 807, 'NM': 749, 'ND': 739, 'VT': 710, 'SD': 602, 'WV': 490, 'WY': 341, 'DC': 311, 'DE': 298, 'AK': 237})\n"
     ]
    }
   ],
   "source": [
    "#We start by counting State to see instances of States that occures\n",
    "\n",
    "variable_counts = Counter(SBAloan_df['State'])\n",
    "print(variable_counts)\n"
   ]
  },
  {
   "cell_type": "code",
   "execution_count": 50,
   "id": "19e36bfc",
   "metadata": {},
   "outputs": [
    {
     "name": "stdout",
     "output_type": "stream",
     "text": [
      "Counter({1: 22394, 2: 11893, 3: 11630, 4: 8294, 5: 7137, 6: 7039, 7: 5906, 8: 5003, 9: 4880, 10: 4608, 11: 4312, 12: 4188, 13: 4171, 14: 4151, 15: 4080, 16: 3866, 17: 3754, 18: 3349, 19: 3312, 20: 2886, 21: 2583, 22: 2527, 23: 2290, 24: 2006, 25: 1658, 26: 1615, 27: 1612, 28: 1603, 29: 1597, 30: 1576, 31: 1565, 32: 1509, 33: 1487, 34: 1321, 35: 1141, 36: 1140, 37: 1128, 38: 1075, 39: 932, 40: 827, 41: 813, 42: 807, 43: 749, 44: 739, 45: 710, 46: 602, 47: 490, 48: 341, 49: 311, 50: 298, 51: 237})\n"
     ]
    }
   ],
   "source": [
    "state_initials = ['CA', 'NY', 'TX', 'FL', 'OH', 'IL', 'UT', 'MN', 'MI', 'PA', 'WI', 'WA', 'CO', 'NJ', 'GA', 'AZ', 'MA', 'MO', 'IN', 'NC', 'VA', 'OR', 'MD', 'ID', 'TN', 'KY', 'IA', 'KS', 'LA', 'CT', 'OK', 'MS', 'NV', 'NH', 'AL', 'NE', 'MT', 'ME', 'SC', 'HI', 'RI', 'AR', 'NM', 'ND', 'VT', 'SD', 'WV', 'WY', 'DC', 'DE', 'AK']\n",
    "\n",
    "# Replace each state with numeric value\n",
    "State_mapping = {state: i + 1 for i, state in enumerate(state_initials)}\n",
    "\n",
    "SBAloan_df['State'] = SBAloan_df['State'].replace(State_mapping)\n",
    "\n",
    "variable_counts = Counter(SBAloan_df['State'])\n",
    "print(variable_counts)"
   ]
  },
  {
   "cell_type": "code",
   "execution_count": 52,
   "id": "d9d0d6ad",
   "metadata": {},
   "outputs": [
    {
     "name": "stdout",
     "output_type": "stream",
     "text": [
      "<class 'pandas.core.frame.DataFrame'>\n",
      "Int64Index: 164142 entries, 143841 to 675230\n",
      "Data columns (total 12 columns):\n",
      " #   Column             Non-Null Count   Dtype\n",
      "---  ------             --------------   -----\n",
      " 0   State              164142 non-null  Int64\n",
      " 1   BankState          164142 non-null  Int64\n",
      " 2   NAICS              164142 non-null  int64\n",
      " 3   ApprovalFY         164142 non-null  int64\n",
      " 4   Term               164142 non-null  int64\n",
      " 5   NoEmp              164142 non-null  int64\n",
      " 6   NewExist           164142 non-null  int64\n",
      " 7   FranchiseCode      164142 non-null  int64\n",
      " 8   UrbanRural         164142 non-null  int64\n",
      " 9   LowDoc             164142 non-null  int64\n",
      " 10  DisbursementGross  164142 non-null  int64\n",
      " 11  MIS_Status         164142 non-null  int64\n",
      "dtypes: Int64(2), int64(10)\n",
      "memory usage: 16.6 MB\n"
     ]
    }
   ],
   "source": [
    "#Now converting variable type (dtype)\n",
    "SBAloan_df['State'] = SBAloan_df['State'].astype('Int64')\n",
    "\n",
    "#checking\n",
    "SBAloan_df.info()"
   ]
  },
  {
   "cell_type": "markdown",
   "id": "bd1a9641",
   "metadata": {},
   "source": [
    "### NoEmp"
   ]
  },
  {
   "cell_type": "code",
   "execution_count": 53,
   "id": "0e6cb0f8",
   "metadata": {},
   "outputs": [
    {
     "name": "stdout",
     "output_type": "stream",
     "text": [
      "Counter({1: 36002, 2: 28614, 3: 16896, 4: 13014, 5: 10779, 6: 7431, 0: 5250, 7: 5155, 8: 5093, 10: 5011, 12: 3033, 9: 2714, 15: 2668, 20: 2025, 11: 1752, 14: 1467, 25: 1331, 13: 1310, 30: 1084, 18: 1081, 16: 975, 17: 764, 22: 639, 40: 607, 35: 591, 21: 504, 50: 503, 19: 465, 24: 455, 23: 413, 45: 358, 28: 346, 26: 329, 32: 286, 27: 283, 60: 263, 42: 185, 100: 167, 36: 162, 34: 159, 38: 158, 33: 156, 65: 156, 55: 152, 80: 143, 29: 136, 70: 136, 31: 135, 75: 128, 48: 119, 150: 116, 43: 115, 37: 94, 44: 79, 41: 74, 39: 73, 47: 73, 85: 69, 49: 64, 90: 64, 46: 61, 52: 58, 110: 54, 120: 53, 62: 44, 56: 42, 53: 42, 68: 38, 95: 38, 130: 36, 63: 36, 58: 35, 51: 34, 54: 34, 57: 33, 82: 31, 200: 31, 140: 30, 125: 28, 72: 26, 66: 24, 59: 24, 105: 23, 61: 23, 78: 22, 250: 21, 67: 21, 98: 20, 88: 18, 77: 18, 300: 18, 74: 17, 180: 16, 99: 15, 160: 14, 84: 14, 79: 14, 81: 14, 64: 14, 69: 13, 115: 13, 135: 13, 145: 13, 87: 12, 91: 12, 76: 11, 92: 11, 83: 10, 73: 10, 116: 10, 71: 10, 103: 10, 175: 10, 600: 9, 97: 9, 96: 8, 107: 8, 86: 8, 220: 8, 89: 8, 400: 7, 106: 7, 350: 7, 230: 7, 114: 7, 102: 7, 185: 7, 170: 7, 158: 7, 109: 6, 112: 6, 93: 6, 147: 6, 101: 6, 210: 6, 187: 5, 119: 5, 325: 5, 146: 5, 113: 5, 240: 5, 128: 5, 126: 5, 104: 5, 108: 5, 225: 5, 256: 4, 154: 4, 94: 4, 195: 4, 137: 4, 111: 4, 141: 4, 121: 4, 117: 4, 280: 4, 118: 4, 188: 4, 143: 3, 235: 3, 317: 3, 179: 3, 148: 3, 155: 3, 139: 3, 149: 3, 124: 3, 215: 3, 152: 3, 132: 3, 131: 3, 122: 3, 190: 3, 129: 3, 142: 3, 203: 3, 165: 3, 136: 3, 450: 3, 330: 3, 500: 3, 134: 3, 236: 3, 275: 2, 231: 2, 550: 2, 171: 2, 172: 2, 161: 2, 523: 2, 255: 2, 365: 2, 189: 2, 360: 2, 194: 2, 260: 2, 700: 2, 750: 2, 167: 2, 199: 2, 375: 2, 245: 2, 182: 2, 323: 2, 208: 2, 328: 2, 8000: 1, 430: 1, 183: 1, 362: 1, 202: 1, 520: 1, 2151: 1, 316: 1, 395: 1, 6501: 1, 163: 1, 1300: 1, 123: 1, 394: 1, 287: 1, 1200: 1, 4847: 1, 3900: 1, 967: 1, 153: 1, 476: 1, 336: 1, 1940: 1, 1233: 1, 1451: 1, 207: 1, 454: 1, 1550: 1, 544: 1, 241: 1, 213: 1, 281: 1, 2500: 1, 191: 1, 157: 1, 243: 1, 510: 1, 435: 1, 151: 1, 193: 1, 232: 1, 211: 1, 285: 1, 261: 1, 196: 1, 162: 1, 315: 1, 604: 1, 295: 1, 284: 1, 144: 1, 227: 1, 396: 1, 1000: 1, 127: 1, 310: 1, 222: 1, 356: 1, 363: 1, 274: 1, 267: 1, 234: 1, 305: 1, 346: 1, 209: 1})\n"
     ]
    }
   ],
   "source": [
    "#NoEmp= Number of business employees\n",
    "#No preprocessing needed for this attribute. Data looks ok, as we can see number of business employees\n",
    "\n",
    "variable_counts = Counter(SBAloan_df['NoEmp'])\n",
    "print(variable_counts)"
   ]
  },
  {
   "cell_type": "markdown",
   "id": "28139b48",
   "metadata": {},
   "source": [
    "### Term\n"
   ]
  },
  {
   "cell_type": "code",
   "execution_count": 54,
   "id": "5f47c41a",
   "metadata": {},
   "outputs": [
    {
     "name": "stdout",
     "output_type": "stream",
     "text": [
      "Counter({84: 47715, 60: 15667, 120: 9276, 240: 7778, 36: 4251, 12: 3511, 48: 2922, 300: 2641, 72: 2399, 24: 2308, 66: 1441, 63: 1366, 78: 1345, 59: 1130, 61: 1105, 54: 1101, 62: 1101, 64: 1097, 58: 1047, 65: 1047, 42: 1025, 55: 1005, 56: 990, 53: 975, 57: 964, 51: 962, 90: 962, 67: 961, 50: 952, 52: 948, 47: 948, 49: 946, 68: 931, 180: 930, 69: 913, 46: 904, 71: 903, 41: 869, 70: 867, 40: 862, 45: 852, 43: 829, 44: 824, 73: 815, 39: 812, 37: 725, 96: 714, 38: 706, 35: 655, 13: 638, 87: 630, 30: 591, 83: 568, 74: 561, 34: 556, 6: 545, 75: 541, 33: 520, 32: 513, 31: 473, 18: 465, 27: 463, 76: 459, 28: 458, 29: 444, 25: 439, 26: 431, 108: 419, 4: 412, 82: 396, 3: 390, 23: 381, 126: 379, 15: 362, 21: 358, 22: 346, 19: 342, 5: 338, 77: 333, 11: 333, 17: 330, 9: 329, 2: 329, 14: 328, 20: 326, 7: 318, 88: 316, 8: 303, 16: 296, 1: 287, 93: 281, 123: 278, 102: 273, 98: 273, 104: 273, 86: 269, 10: 267, 80: 267, 81: 261, 92: 258, 100: 258, 85: 255, 91: 254, 97: 252, 99: 251, 95: 246, 101: 246, 103: 241, 89: 229, 79: 226, 94: 223, 105: 223, 107: 214, 106: 213, 109: 196, 110: 192, 111: 183, 144: 155, 112: 147, 0: 136, 114: 129, 119: 124, 306: 122, 113: 115, 124: 108, 276: 99, 168: 95, 264: 84, 115: 83, 118: 78, 132: 78, 117: 72, 252: 71, 288: 69, 116: 65, 204: 61, 246: 61, 121: 59, 312: 59, 179: 55, 122: 52, 192: 51, 216: 49, 156: 45, 125: 44, 228: 41, 243: 35, 129: 35, 186: 33, 309: 31, 128: 29, 150: 28, 303: 26, 174: 23, 183: 22, 210: 22, 138: 21, 270: 21, 131: 21, 253: 21, 249: 20, 279: 20, 282: 19, 277: 19, 258: 19, 287: 19, 147: 19, 262: 17, 244: 17, 178: 17, 294: 17, 273: 17, 184: 16, 272: 16, 265: 15, 130: 15, 242: 15, 257: 15, 200: 15, 222: 15, 219: 15, 259: 15, 255: 15, 286: 14, 280: 14, 256: 14, 177: 14, 189: 14, 281: 13, 195: 13, 165: 13, 278: 13, 239: 13, 304: 13, 261: 12, 182: 12, 162: 12, 269: 12, 268: 12, 181: 12, 127: 12, 245: 12, 275: 12, 160: 12, 285: 12, 155: 12, 137: 11, 163: 11, 143: 11, 140: 11, 139: 11, 141: 11, 218: 11, 134: 11, 145: 11, 214: 11, 171: 11, 274: 11, 267: 11, 201: 11, 152: 11, 237: 11, 185: 11, 212: 11, 149: 11, 299: 11, 241: 11, 148: 10, 263: 10, 234: 10, 203: 10, 164: 10, 207: 10, 142: 10, 176: 10, 209: 10, 284: 10, 254: 10, 208: 10, 227: 10, 158: 10, 221: 10, 301: 10, 133: 9, 305: 9, 251: 9, 151: 9, 260: 9, 153: 9, 220: 8, 248: 8, 169: 8, 154: 8, 229: 8, 205: 8, 225: 8, 167: 8, 289: 8, 197: 8, 247: 8, 291: 8, 217: 8, 302: 8, 290: 8, 233: 7, 191: 7, 198: 7, 235: 7, 166: 7, 202: 7, 271: 7, 170: 7, 224: 7, 232: 7, 215: 7, 297: 7, 159: 7, 308: 7, 206: 6, 283: 6, 250: 6, 223: 6, 146: 6, 199: 6, 231: 6, 136: 6, 296: 6, 187: 6, 193: 6, 196: 6, 157: 6, 295: 6, 161: 5, 135: 5, 172: 5, 173: 5, 310: 5, 213: 5, 293: 5, 311: 5, 188: 5, 211: 4, 190: 4, 230: 4, 292: 3, 298: 3, 236: 3, 238: 3, 175: 3, 266: 3, 330: 3, 315: 3, 307: 3, 194: 2, 226: 2, 314: 2, 321: 1, 360: 1, 324: 1, 319: 1, 313: 1, 316: 1})\n"
     ]
    }
   ],
   "source": [
    "#Term = Loan term in months\n",
    "#No preprocessing nedded for this attribute. Data looks ok\n",
    "\n",
    "variable_counts = Counter(SBAloan_df['Term'])\n",
    "print(variable_counts)"
   ]
  },
  {
   "cell_type": "markdown",
   "id": "a35476a6",
   "metadata": {},
   "source": [
    "### NAICS"
   ]
  },
  {
   "cell_type": "code",
   "execution_count": 55,
   "id": "5974e40e",
   "metadata": {},
   "outputs": [
    {
     "name": "stdout",
     "output_type": "stream",
     "text": [
      "Counter({722110: 7502, 722211: 5202, 238990: 2559, 812112: 2550, 484110: 2403, 621210: 2353, 561730: 2169, 621111: 2088, 453998: 1887, 236118: 1862, 238220: 1851, 811111: 1813, 236115: 1670, 238210: 1654, 484121: 1607, 812990: 1541, 541110: 1520, 531210: 1516, 621310: 1495, 447110: 1402, 721110: 1362, 624410: 1335, 713940: 1332, 541990: 1327, 445110: 1272, 445310: 1240, 524210: 1227, 812320: 1176, 722213: 1156, 541611: 1153, 541613: 1063, 541330: 1063, 561720: 1004, 541618: 989, 445120: 955, 541519: 944, 541512: 937, 541511: 933, 238910: 929, 445299: 916, 451110: 874, 812199: 871, 423990: 813, 236220: 808, 541211: 807, 238320: 798, 453220: 772, 811121: 757, 541940: 730, 722410: 715, 448190: 706, 448120: 684, 561990: 666, 442110: 657, 424990: 652, 713990: 645, 441310: 644, 484220: 643, 621610: 641, 441120: 630, 332710: 618, 541810: 617, 812113: 615, 238110: 608, 112320: 594, 621340: 578, 522310: 576, 722320: 576, 446110: 561, 448310: 560, 621399: 557, 238330: 557, 541219: 546, 811192: 544, 452990: 539, 812310: 538, 561790: 537, 561499: 533, 446120: 530, 541430: 525, 541410: 514, 339999: 501, 238350: 492, 541320: 491, 444190: 485, 531311: 483, 453110: 482, 811310: 479, 531390: 454, 811198: 454, 238310: 451, 424330: 444, 541310: 437, 443112: 436, 621320: 433, 541690: 427, 541921: 404, 454111: 403, 448150: 402, 423450: 402, 442299: 400, 236116: 399, 238160: 399, 611620: 398, 454390: 397, 812910: 396, 611699: 384, 811490: 382, 541213: 374, 444130: 370, 238140: 370, 454210: 369, 323110: 361, 424490: 351, 442210: 343, 512110: 343, 523930: 340, 332999: 335, 448210: 331, 451120: 327, 339950: 325, 237310: 319, 711510: 318, 561740: 318, 238390: 315, 443120: 314, 238190: 310, 448140: 310, 446199: 308, 423830: 307, 423120: 306, 518210: 304, 323119: 304, 488510: 297, 337110: 292, 238290: 290, 311811: 289, 488410: 288, 213112: 284, 453910: 284, 488999: 282, 446191: 280, 444220: 279, 621999: 278, 423910: 273, 561621: 271, 812111: 268, 485320: 266, 561320: 265, 441110: 265, 445291: 262, 423940: 260, 531120: 258, 611710: 254, 238340: 253, 425120: 246, 562111: 240, 323113: 236, 423690: 233, 484230: 232, 811118: 231, 453310: 229, 237990: 229, 326199: 226, 541490: 225, 238130: 225, 424210: 224, 492210: 224, 541612: 222, 423220: 219, 541890: 218, 113310: 213, 423310: 211, 424410: 208, 237110: 205, 541620: 203, 611519: 203, 423430: 200, 531320: 199, 448130: 197, 621330: 196, 423930: 195, 492110: 195, 561710: 195, 445210: 194, 812210: 194, 722310: 193, 531312: 193, 423610: 192, 453210: 192, 811212: 190, 511210: 188, 236210: 187, 311812: 187, 611610: 187, 423390: 186, 484210: 186, 339116: 185, 441221: 185, 451211: 185, 452111: 183, 624190: 182, 443111: 181, 561510: 181, 561311: 177, 451130: 176, 532490: 175, 424310: 175, 561310: 174, 453920: 174, 238150: 173, 519190: 171, 624120: 171, 532299: 170, 423210: 168, 315999: 167, 321999: 162, 448110: 161, 611691: 159, 561110: 158, 541614: 157, 332312: 155, 423840: 154, 621112: 154, 561439: 153, 484122: 153, 423320: 152, 441229: 151, 311999: 148, 453991: 147, 621512: 146, 561612: 144, 722330: 143, 238120: 143, 451140: 140, 485999: 139, 423440: 138, 541922: 137, 621391: 136, 621498: 134, 441320: 134, 541191: 133, 424820: 131, 511120: 131, 517212: 130, 423850: 130, 424930: 130, 424320: 129, 332322: 128, 327991: 126, 423110: 126, 423920: 122, 713120: 122, 541199: 122, 621511: 121, 811191: 121, 811113: 120, 424470: 120, 721191: 119, 424480: 119, 333999: 117, 561431: 117, 115210: 116, 517110: 116, 711310: 116, 423620: 114, 811219: 114, 445230: 113, 532230: 112, 445292: 112, 447190: 112, 424120: 112, 423510: 112, 541370: 111, 424460: 110, 624110: 110, 511199: 109, 238170: 109, 541380: 109, 237130: 106, 312120: 106, 112310: 106, 423860: 105, 323114: 105, 541850: 105, 423710: 105, 333298: 104, 337122: 103, 722212: 103, 532310: 103, 517210: 103, 424690: 102, 323115: 102, 623110: 101, 811411: 100, 488490: 99, 713950: 99, 524128: 97, 444110: 96, 424910: 96, 611430: 96, 339920: 96, 332812: 95, 531110: 95, 541350: 94, 811122: 94, 333512: 94, 524298: 93, 333319: 92, 722511: 92, 561440: 91, 511130: 91, 441210: 91, 512199: 90, 485310: 90, 531190: 90, 711320: 90, 423490: 89, 561410: 89, 493110: 89, 312130: 88, 321911: 88, 445220: 88, 442291: 87, 315299: 86, 441222: 86, 511110: 86, 339911: 85, 446130: 85, 532412: 84, 221310: 84, 711130: 84, 562910: 84, 532292: 84, 333514: 84, 562998: 83, 562991: 83, 541840: 82, 332721: 82, 423720: 81, 811412: 81, 621910: 80, 811211: 80, 325998: 80, 112120: 80, 444210: 79, 611110: 78, 321113: 78, 425110: 78, 541910: 78, 115112: 78, 335999: 78, 327390: 77, 711410: 77, 321920: 77, 423420: 76, 541820: 76, 423810: 76, 314999: 76, 454311: 75, 212321: 75, 541870: 74, 523920: 74, 517919: 74, 623312: 74, 336399: 73, 327112: 71, 424420: 71, 423820: 71, 541860: 70, 424720: 70, 332813: 70, 621493: 70, 444120: 69, 561520: 69, 713910: 68, 811420: 68, 721211: 68, 541513: 67, 623990: 67, 321918: 67, 485991: 66, 332323: 66, 334419: 66, 333111: 66, 561910: 65, 611692: 65, 518111: 64, 424340: 64, 236117: 64, 339112: 64, 532210: 63, 451220: 63, 327215: 62, 561622: 62, 311330: 62, 488991: 61, 611511: 61, 562119: 61, 423330: 60, 315212: 60, 424450: 60, 541420: 59, 337212: 59, 561611: 59, 541710: 58, 454113: 58, 334310: 58, 523999: 57, 111421: 57, 811112: 57, 561599: 56, 532120: 56, 522292: 55, 333220: 55, 512131: 55, 541930: 55, 561330: 55, 512240: 55, 511140: 54, 812191: 54, 519130: 54, 517910: 53, 336999: 53, 339113: 53, 333992: 53, 311520: 53, 532111: 53, 423730: 52, 115310: 52, 512120: 52, 622110: 52, 722513: 52, 512191: 51, 624310: 50, 331210: 50, 485510: 50, 332321: 50, 488190: 49, 491110: 49, 561210: 49, 623311: 49, 424810: 49, 531130: 49, 333513: 49, 517310: 48, 315233: 48, 332212: 48, 311412: 48, 812331: 48, 315211: 47, 713930: 47, 541214: 46, 423130: 46, 621420: 45, 611420: 45, 336413: 45, 311991: 45, 515210: 45, 339914: 45, 339932: 45, 423140: 45, 512210: 44, 532220: 44, 112111: 43, 333518: 43, 813910: 43, 811213: 43, 334220: 43, 813920: 43, 452910: 43, 337215: 43, 325211: 43, 334513: 43, 325510: 42, 333511: 42, 311920: 42, 334119: 41, 311612: 41, 333415: 41, 336991: 41, 311919: 41, 711219: 41, 443130: 41, 522390: 40, 541340: 40, 551112: 40, 325412: 40, 332313: 40, 332311: 40, 333120: 40, 312113: 40, 424110: 40, 517911: 40, 327320: 39, 487110: 39, 334519: 39, 313312: 39, 424130: 39, 424590: 39, 485410: 38, 516110: 38, 334111: 38, 622310: 38, 322211: 38, 324121: 38, 424950: 38, 424610: 37, 325620: 37, 337121: 37, 311119: 37, 323112: 36, 424940: 36, 524127: 36, 333132: 36, 333515: 36, 312112: 36, 487210: 36, 424920: 36, 611512: 35, 522320: 35, 721214: 35, 524113: 35, 237120: 35, 711110: 35, 332116: 34, 532291: 34, 541720: 34, 711120: 34, 561422: 34, 311111: 34, 337211: 33, 561920: 33, 541360: 33, 339114: 33, 424710: 33, 237210: 33, 322299: 33, 493190: 33, 312111: 33, 562920: 33, 713110: 32, 453930: 32, 524126: 32, 811430: 32, 332811: 32, 562219: 31, 333911: 31, 336212: 31, 315239: 31, 454319: 31, 325411: 31, 541712: 31, 424430: 30, 515112: 30, 711190: 30, 325910: 30, 323117: 30, 517410: 30, 561491: 30, 334611: 30, 721199: 30, 334510: 30, 334413: 30, 213111: 30, 311611: 30, 332911: 30, 523110: 29, 424510: 29, 512230: 28, 336211: 28, 515120: 28, 512220: 28, 332111: 28, 332510: 28, 448320: 28, 112390: 28, 624229: 27, 337127: 27, 711211: 27, 812921: 27, 339992: 27, 333294: 27, 623220: 27, 311615: 27, 813319: 26, 334290: 26, 339115: 26, 315222: 26, 332722: 26, 337214: 26, 326299: 26, 454112: 25, 337125: 25, 561421: 25, 314129: 25, 522298: 25, 333922: 25, 332996: 25, 337920: 25, 334412: 25, 541711: 25, 336412: 24, 316992: 24, 311821: 24, 524292: 24, 313311: 23, 524291: 23, 326121: 23, 314912: 23, 333414: 23, 335122: 23, 424520: 23, 481219: 23, 114111: 22, 812220: 22, 483211: 22, 336214: 22, 452112: 22, 481211: 22, 454312: 22, 323122: 22, 321214: 22, 311942: 22, 532420: 21, 712110: 21, 311911: 21, 332439: 21, 611630: 21, 423410: 21, 311712: 21, 423460: 21, 333112: 21, 325991: 21, 115114: 20, 332618: 20, 311340: 20, 315232: 20, 451212: 20, 423740: 20, 336612: 20, 561492: 20, 335121: 20, 488390: 19, 333293: 19, 335129: 19, 488119: 19, 333411: 19, 325611: 19, 115115: 19, 311941: 19, 336411: 19, 315225: 19, 332994: 19, 325199: 18, 621410: 18, 334612: 18, 212319: 18, 327122: 18, 335312: 18, 333311: 18, 327331: 18, 321211: 18, 488210: 17, 331221: 17, 812930: 17, 315231: 17, 334210: 17, 115113: 17, 323111: 17, 221210: 17, 331111: 17, 211111: 17, 111998: 17, 517510: 16, 316999: 16, 331511: 16, 522220: 16, 523120: 16, 512290: 16, 313222: 16, 333312: 16, 326140: 16, 315228: 16, 321992: 16, 112210: 16, 326111: 16, 722515: 16, 113110: 15, 611513: 15, 333993: 15, 326212: 15, 112920: 15, 493120: 15, 812332: 15, 323121: 15, 611310: 15, 333314: 15, 311423: 15, 562211: 15, 326112: 15, 532411: 15, 312140: 15, 485113: 14, 541830: 14, 333315: 14, 332913: 14, 334511: 14, 333921: 14, 623210: 14, 322221: 14, 325992: 14, 327999: 14, 624210: 14, 611410: 14, 323116: 14, 336611: 14, 424440: 14, 325520: 14, 525990: 14, 334516: 14, 621492: 14, 522293: 14, 114112: 14, 235990: 14, 333210: 13, 333924: 13, 334512: 13, 327211: 13, 334418: 13, 321991: 13, 327212: 13, 334515: 13, 311830: 13, 331491: 13, 336111: 13, 337910: 13, 711212: 13, 333912: 13, 321912: 13, 325612: 13, 523910: 13, 332992: 13, 311813: 13, 334417: 13, 336360: 13, 325314: 13, 339111: 12, 339942: 12, 315291: 12, 621491: 12, 113210: 12, 488330: 12, 332991: 12, 339931: 12, 481212: 12, 336322: 12, 332420: 12, 333292: 12, 326130: 12, 332997: 12, 316110: 12, 111110: 12, 313210: 11, 322121: 11, 111150: 11, 336312: 11, 321114: 11, 314121: 11, 314110: 11, 316219: 11, 221119: 11, 322222: 11, 326220: 11, 814110: 11, 322212: 11, 524114: 11, 336330: 11, 322223: 11, 335314: 11, 339991: 11, 311513: 11, 326160: 11, 327310: 11, 336350: 11, 315991: 11, 212311: 11, 112990: 11, 335311: 11, 325188: 11, 111219: 11, 337129: 10, 326191: 10, 515111: 10, 562112: 10, 324199: 10, 622210: 10, 111422: 10, 337124: 10, 323118: 10, 481111: 10, 561450: 10, 334518: 10, 324110: 10, 333131: 10, 315292: 10, 334613: 10, 322233: 10, 332912: 10, 331521: 9, 331522: 9, 311320: 9, 333295: 9, 335313: 9, 326113: 9, 333613: 9, 334112: 9, 333618: 9, 311411: 9, 111940: 9, 114119: 9, 331316: 9, 336112: 9, 423520: 9, 493130: 9, 523140: 9, 333313: 9, 235930: 9, 235310: 9, 511191: 9, 311421: 9, 336120: 8, 322291: 8, 525930: 8, 221111: 8, 313221: 8, 813990: 8, 532112: 8, 336510: 8, 335211: 8, 333994: 8, 331492: 8, 325311: 8, 922160: 8, 333923: 8, 335212: 8, 112112: 8, 221122: 8, 114210: 8, 111332: 8, 481112: 8, 212312: 8, 454110: 8, 326122: 8, 561312: 8, 112511: 8, 315234: 7, 321219: 7, 315224: 7, 518112: 7, 316214: 7, 325320: 7, 813212: 7, 482111: 7, 336370: 7, 517211: 7, 326291: 7, 339993: 7, 483111: 7, 335931: 7, 422990: 7, 339913: 7, 523130: 7, 331513: 7, 311514: 7, 233320: 6, 115116: 6, 335228: 6, 221330: 6, 541120: 6, 326192: 6, 316991: 6, 311930: 6, 313113: 6, 311230: 6, 336311: 6, 721310: 6, 482112: 6, 327121: 6, 525910: 6, 533110: 6, 921130: 6, 221320: 6, 562212: 6, 335929: 6, 315191: 6, 624230: 6, 316993: 6, 333611: 6, 325120: 6, 333291: 6, 316211: 6, 111199: 6, 235110: 6, 311211: 6, 332117: 6, 335921: 6, 483212: 6, 332919: 6, 235710: 6, 487990: 6, 326150: 6, 331222: 6, 325110: 6, 322231: 6, 333995: 6, 111211: 6, 486990: 5, 211112: 5, 327420: 5, 926120: 5, 327111: 5, 523991: 5, 488310: 5, 333991: 5, 314911: 5, 519110: 5, 324191: 5, 327124: 5, 336992: 5, 331319: 5, 611210: 5, 812922: 5, 525920: 5, 213115: 5, 332993: 5, 321213: 5, 235610: 5, 421910: 5, 421830: 5, 235520: 5, 332612: 5, 311511: 5, 311422: 5, 327992: 5, 331312: 5, 713920: 5, 331419: 5, 112340: 5, 813312: 5, 443142: 5, 311225: 5, 0: 5, 111910: 5, 332995: 4, 485210: 4, 311613: 4, 713290: 4, 922130: 4, 813410: 4, 525190: 4, 313249: 4, 339994: 4, 315119: 4, 111140: 4, 525120: 4, 339943: 4, 327213: 4, 332114: 4, 519120: 4, 331524: 4, 332213: 4, 313111: 4, 486110: 4, 235210: 4, 422110: 4, 332214: 4, 324122: 4, 234110: 4, 421450: 4, 322232: 4, 325414: 4, 111334: 4, 311223: 4, 441228: 4, 335110: 4, 512132: 3, 523210: 3, 325131: 3, 522291: 3, 333612: 3, 334414: 3, 525110: 3, 333412: 3, 212299: 3, 621991: 3, 485111: 3, 712190: 3, 327123: 3, 311213: 3, 336340: 3, 926150: 3, 213114: 3, 233210: 3, 322215: 3, 333997: 3, 315221: 3, 421990: 3, 335911: 3, 421730: 3, 422210: 3, 514191: 3, 212111: 3, 212399: 3, 311222: 3, 332998: 3, 422910: 3, 331311: 3, 421850: 3, 332410: 3, 334411: 3, 335991: 3, 115111: 3, 111419: 3, 311822: 3, 561613: 3, 112519: 3, 331423: 3, 331112: 3, 335221: 3, 335932: 2, 311711: 2, 325181: 2, 339912: 2, 112910: 2, 315192: 2, 334415: 2, 313230: 2, 322226: 2, 332211: 2, 923110: 2, 813219: 2, 112130: 2, 327910: 2, 513340: 2, 483112: 2, 928120: 2, 332611: 2, 331421: 2, 311221: 2, 325212: 2, 315223: 2, 334416: 2, 313320: 2, 111120: 2, 452110: 2, 422420: 2, 421220: 2, 713210: 2, 322213: 2, 422430: 2, 421840: 2, 488320: 2, 235920: 2, 331315: 2, 212313: 2, 924110: 2, 813311: 2, 421690: 2, 333913: 2, 322214: 2, 483113: 2, 233310: 2, 421710: 2, 514199: 2, 332216: 2, 327332: 2, 112930: 2, 922150: 2, 422710: 2, 331422: 2, 234990: 2, 422320: 2, 333996: 2, 336415: 2, 443141: 2, 315990: 2, 316213: 2, 111191: 2, 111335: 2, 311512: 2, 722514: 2, 333318: 2, 315210: 2, 333249: 2, 454310: 2, 339995: 1, 311351: 1, 712120: 1, 922190: 1, 522110: 1, 514190: 1, 624221: 1, 712130: 1, 321212: 1, 488111: 1, 336321: 1, 486210: 1, 928110: 1, 313241: 1, 314992: 1, 212322: 1, 485112: 1, 112512: 1, 721120: 1, 327120: 1, 235910: 1, 325193: 1, 421510: 1, 923130: 1, 513390: 1, 513322: 1, 421940: 1, 421140: 1, 422920: 1, 513310: 1, 212210: 1, 235410: 1, 313310: 1, 312229: 1, 234920: 1, 422930: 1, 332115: 1, 334113: 1, 421620: 1, 315111: 1, 421110: 1, 213113: 1, 334514: 1, 235810: 1, 311312: 1, 513120: 1, 212325: 1, 235510: 1, 333516: 1, 422690: 1, 327125: 1, 422410: 1, 923120: 1, 235420: 1, 524130: 1, 562213: 1, 422130: 1, 421210: 1, 421930: 1, 421920: 1, 422490: 1, 339941: 1, 513330: 1, 422470: 1, 421490: 1, 111336: 1, 926110: 1, 332112: 1, 327410: 1, 421820: 1, 332431: 1, 111130: 1, 314991: 1, 421130: 1, 315992: 1, 325613: 1, 331314: 1, 421610: 1, 111339: 1, 551114: 1, 522120: 1, 326211: 1, 422720: 1, 312210: 1, 112420: 1, 524192: 1, 325222: 1, 311823: 1, 212231: 1, 325413: 1, 112330: 1, 331411: 1, 311212: 1, 335912: 1, 212112: 1, 813940: 1, 111920: 1, 335222: 1, 212393: 1, 111331: 1, 315240: 1, 339910: 1, 327110: 1, 221114: 1, 325180: 1, 333413: 1, 315280: 1})\n"
     ]
    }
   ],
   "source": [
    "#NAICS = North American Industry Classification Systems Code.\n",
    "#We start by counting NAICS to see instances of NAICS that occures\n",
    "#Source: https://www.investopedia.com/terms/n/naics.asp\n",
    "\n",
    "variable_counts = Counter(SBAloan_df['NAICS'])\n",
    "print(variable_counts)\n",
    "\n",
    "\n"
   ]
  },
  {
   "cell_type": "code",
   "execution_count": 56,
   "id": "7e0e37de",
   "metadata": {},
   "outputs": [
    {
     "name": "stdout",
     "output_type": "stream",
     "text": [
      "Counter({23: 18486, 54: 18485, 44: 17843, 72: 17373, 81: 14249, 62: 11880, 42: 10101, 56: 8467, 45: 8163, 33: 7301, 48: 7264, 53: 4365, 32: 3453, 71: 3247, 52: 2943, 51: 2823, 31: 2646, 61: 2035, 11: 1704, 49: 614, 21: 474, 22: 141, 55: 41, 92: 39})\n"
     ]
    }
   ],
   "source": [
    "#The first two digits of NAICS determines the industry.\n",
    "#We're only interested in these two first digits.\n",
    "\n",
    "SBAloan_df['NAICS'] = SBAloan_df['NAICS'] // 10000 #Divide by 10000 to remove last 4 digits\n",
    "SBAloan_df = SBAloan_df[SBAloan_df['NAICS'] >= 10]\n",
    "\n",
    "variable_counts = Counter(SBAloan_df['NAICS'])\n",
    "print(variable_counts)"
   ]
  },
  {
   "cell_type": "code",
   "execution_count": 57,
   "id": "79b73713",
   "metadata": {},
   "outputs": [
    {
     "name": "stdout",
     "output_type": "stream",
     "text": [
      "<class 'pandas.core.frame.DataFrame'>\n",
      "Int64Index: 164137 entries, 143841 to 675230\n",
      "Data columns (total 12 columns):\n",
      " #   Column             Non-Null Count   Dtype\n",
      "---  ------             --------------   -----\n",
      " 0   State              164137 non-null  Int64\n",
      " 1   BankState          164137 non-null  Int64\n",
      " 2   NAICS              164137 non-null  Int64\n",
      " 3   ApprovalFY         164137 non-null  int64\n",
      " 4   Term               164137 non-null  int64\n",
      " 5   NoEmp              164137 non-null  int64\n",
      " 6   NewExist           164137 non-null  int64\n",
      " 7   FranchiseCode      164137 non-null  int64\n",
      " 8   UrbanRural         164137 non-null  int64\n",
      " 9   LowDoc             164137 non-null  int64\n",
      " 10  DisbursementGross  164137 non-null  int64\n",
      " 11  MIS_Status         164137 non-null  int64\n",
      "dtypes: Int64(3), int64(9)\n",
      "memory usage: 16.7 MB\n"
     ]
    }
   ],
   "source": [
    "#Now converting variable type (dtype)\n",
    "SBAloan_df['NAICS'] = SBAloan_df['NAICS'].astype('Int64')\n",
    "\n",
    "#checking\n",
    "SBAloan_df.info()"
   ]
  },
  {
   "cell_type": "code",
   "execution_count": 61,
   "id": "8e909fcf",
   "metadata": {},
   "outputs": [],
   "source": [
    "#The dataset has now been processed, and is ready\n",
    "#Displaying Data\n",
    "SBAloan_df.head()\n",
    "\n",
    "\n",
    "#Exporting the processed data\n",
    "SBAloan_df.to_csv('SBAnational_processdone.csv')"
   ]
  },
  {
   "cell_type": "code",
   "execution_count": null,
   "id": "cedb77b5",
   "metadata": {},
   "outputs": [],
   "source": []
  },
  {
   "cell_type": "code",
   "execution_count": null,
   "id": "ebb72f08",
   "metadata": {},
   "outputs": [],
   "source": []
  }
 ],
 "metadata": {
  "kernelspec": {
   "display_name": "Python 3 (ipykernel)",
   "language": "python",
   "name": "python3"
  },
  "language_info": {
   "codemirror_mode": {
    "name": "ipython",
    "version": 3
   },
   "file_extension": ".py",
   "mimetype": "text/x-python",
   "name": "python",
   "nbconvert_exporter": "python",
   "pygments_lexer": "ipython3",
   "version": "3.11.4"
  }
 },
 "nbformat": 4,
 "nbformat_minor": 5
}
